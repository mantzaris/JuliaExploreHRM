{
 "cells": [
  {
   "cell_type": "code",
   "execution_count": 1,
   "id": "c658ae4e",
   "metadata": {},
   "outputs": [
    {
     "name": "stderr",
     "output_type": "stream",
     "text": [
      "\u001b[32m\u001b[1m  Activating\u001b[22m\u001b[39m project at `~/Documents/repos/JuliaExploreHRM`\n"
     ]
    }
   ],
   "source": [
    "using Pkg\n",
    "Pkg.activate(\"..\")  #one level up, where Project.toml lives\n",
    "Pkg.instantiate()   #download/install anything missing\n",
    "# Pkg.status();"
   ]
  },
  {
   "cell_type": "code",
   "execution_count": 2,
   "id": "b33065dc",
   "metadata": {},
   "outputs": [
    {
     "data": {
      "text/plain": [
       "testo (generic function with 1 method)"
      ]
     },
     "metadata": {},
     "output_type": "display_data"
    }
   ],
   "source": [
    "include(joinpath(@__DIR__, \"..\", \"hrm_common.jl\"))"
   ]
  },
  {
   "cell_type": "code",
   "execution_count": 3,
   "id": "c3685e26",
   "metadata": {},
   "outputs": [],
   "source": [
    "using Plots, Test"
   ]
  },
  {
   "cell_type": "code",
   "execution_count": 44,
   "id": "4ae56824",
   "metadata": {},
   "outputs": [
    {
     "data": {
      "text/plain": [
       "sample! (generic function with 1 method)"
      ]
     },
     "metadata": {},
     "output_type": "display_data"
    }
   ],
   "source": [
    "#data generator\n",
    "# y = w^T x + 0.1 * ||x||^2 + eps, where ( eps is N(0, 0.01) )\n",
    "\n",
    "struct ToyGen\n",
    "    w::Vector{Float32}\n",
    "end\n",
    "\n",
    "function ToyGen(d_in::Int; seed::Int=123)\n",
    "    Random.seed!(seed)\n",
    "    w = randn(Float32, d_in)\n",
    "    return ToyGen(w)\n",
    "end\n",
    "\n",
    "#returns (x, y) with shapes (d_in, batch), (1, batch)\n",
    "function sample!(gen::ToyGen, batch::Int)\n",
    "    d = length(gen.w)\n",
    "    x = randn(Float32, d, batch)\n",
    "    # linear part\n",
    "    y_lin = gen.w' * x      # (1, batch)\n",
    "    # small quadratic interaction\n",
    "    y_quad = 0.1f0 .* sum(abs2, x; dims=1)    # (1, batch)\n",
    "    # noise\n",
    "    eps = 0.01f0 .* randn(Float32, 1, batch)\n",
    "    y = Float32.(y_lin .+ y_quad .+ eps)\n",
    "    return x, y\n",
    "end"
   ]
  },
  {
   "cell_type": "code",
   "execution_count": 45,
   "id": "fbaeada8",
   "metadata": {},
   "outputs": [
    {
     "data": {
      "text/plain": [
       "quantize_to_tokens (generic function with 1 method)"
      ]
     },
     "metadata": {},
     "output_type": "display_data"
    }
   ],
   "source": [
    "\"\"\"\n",
    "    quantize_to_tokens(x; num_tokens::Int, lo::Real, hi::Real)\n",
    "\n",
    "Uniformly bins each element of x in [lo, hi] into 1..num_tokens.\n",
    "Clamps values outside [lo, hi] to the nearest edge bin.\n",
    "\"\"\"\n",
    "LO = -3.0\n",
    "HI =  3.0\n",
    "\n",
    "function quantize_to_tokens(x; num_tokens::Int, lo::Real, hi::Real)\n",
    "    if num_tokens ≤ 0\n",
    "        error(\"quantize_to_tokens called with num_tokens <= 0; use raw floats instead.\")\n",
    "    end\n",
    "    @assert num_tokens ≥ 2\n",
    "    xn = @. clamp((x - lo) / (hi - lo + eps(eltype(x))), 0, 1)\n",
    "    ids = floor.(Int, xn * (num_tokens - 1)) .+ 1\n",
    "    return ids\n",
    "end"
   ]
  },
  {
   "cell_type": "code",
   "execution_count": 46,
   "id": "8e29c8b0",
   "metadata": {},
   "outputs": [
    {
     "data": {
      "text/plain": [
       "TaskLocalRNG()"
      ]
     },
     "metadata": {},
     "output_type": "display_data"
    }
   ],
   "source": [
    "CFG = (\n",
    "    d_in   = 16,\n",
    "    d_hid  = 64,\n",
    "    d_out  = 1,\n",
    "    N      = 2,\n",
    "    T      = 3,\n",
    "    M      = 1,\n",
    "    batch  = 64,\n",
    "    lr     = 1e-3,\n",
    "    steps  = 300,\n",
    "    seed   = 42,\n",
    "\n",
    "    # input encoding\n",
    "    num_tokens = 0,     # set >0 to use embeddings with IDs; 0 = raw float encoder\n",
    "    d_embed    = 32,\n",
    "\n",
    "    # transformer hyperparameters (shared or separated)\n",
    "    l_heads    = 2,     # L-module heads\n",
    "    l_ff_mult  = 4,     # FFN expansion for L\n",
    "    h_heads    = 2,     # H-module heads\n",
    "    h_ff_mult  = 4,     # FFN expansion for H\n",
    "    dropout    = 0.0\n",
    ")\n",
    "\n",
    "\n",
    "Random.seed!(42)"
   ]
  },
  {
   "cell_type": "code",
   "execution_count": 55,
   "id": "87fdc466",
   "metadata": {},
   "outputs": [
    {
     "data": {
      "text/plain": [
       "apply_tokenwise_chain (generic function with 2 methods)"
      ]
     },
     "metadata": {},
     "output_type": "display_data"
    }
   ],
   "source": [
    "# Promote 2-D (d,B) to 3-D (d,1,B); remember if we promoted\n",
    "_as3d(X) = ndims(X) == 2 ? (reshape(X, size(X,1), 1, size(X,2)), true)  :\n",
    "          ndims(X) == 3 ? (X, false) :\n",
    "          error(\"Expected 2-D or 3-D tensor, got ndims=$(ndims(X))\")\n",
    "\n",
    "# Apply a (d,B) layer tokenwise over (d,L,B)\n",
    "function apply_tokenwise(layer, ps_layer, st_layer, X)\n",
    "    X3, was2d = _as3d(X)\n",
    "    d, L, B = size(X3)\n",
    "    X2 = reshape(X3, d, L*B)\n",
    "    Y2, st2 = Lux.apply(layer, X2, ps_layer, st_layer)\n",
    "    Y3 = reshape(Y2, d, L, B)\n",
    "    return was2d ? dropdims(Y3; dims=2) : Y3, st2\n",
    "end\n",
    "\n",
    "# Apply a (d,B) Chain tokenwise over (d,L,B)\n",
    "function apply_tokenwise_chain(chain, ps_chain, st_chain, X)\n",
    "    X3, was2d = _as3d(X)\n",
    "    d, L, B = size(X3)\n",
    "    X2 = reshape(X3, d, L*B)\n",
    "    Y2, st2 = Lux.apply(chain, X2, ps_chain, st_chain)\n",
    "    Y3 = reshape(Y2, d, L, B)\n",
    "    return was2d ? dropdims(Y3; dims=2) : Y3, st2\n",
    "end\n"
   ]
  },
  {
   "cell_type": "code",
   "execution_count": null,
   "id": "6e54df71",
   "metadata": {},
   "outputs": [
    {
     "data": {
      "text/plain": [
       "transformer_block_forward! (generic function with 1 method)"
      ]
     },
     "metadata": {},
     "output_type": "display_data"
    }
   ],
   "source": [
    "# build a pre-LN transformer encoder block parameter set\n",
    "# Pre-LN Transformer encoder block (Lux v1.17 API)\n",
    "function make_transformer_block(d_model::Int;\n",
    "                                nheads::Int,\n",
    "                                ff_mult::Int = 4,\n",
    "                                attention_dropout_probability::Float64 = 0.0,\n",
    "                                dense_kwargs = (;))  # pass-through for Dense kwargs if you want\n",
    "    mha = Lux.MultiHeadAttention(d_model;\n",
    "                                 nheads = nheads,\n",
    "                                 attention_dropout_probability = attention_dropout_probability)\n",
    "\n",
    "    ln1 = Lux.LayerNorm(d_model)\n",
    "    ff  = Lux.Chain(\n",
    "            Lux.Dense(d_model => ff_mult*d_model, NNlib.gelu; dense_kwargs...),\n",
    "            Lux.Dense(ff_mult*d_model => d_model; dense_kwargs...)\n",
    "          )\n",
    "    ln2 = Lux.LayerNorm(d_model)\n",
    "    return (; mha, ln1, ff, ln2)\n",
    "end\n",
    "\n",
    "# Pre-LN Transformer encoder block on X::(d_model, L, B)\n",
    "function transformer_block_forward!(blk, ps_blk, st_blk, X)  # X: (d, L, B)\n",
    "    # Pre-LN (tokenwise)\n",
    "    Xn1, st_ln1 = apply_tokenwise(blk.ln1, ps_blk.ln1, st_blk.ln1, X)    # (d, L, B)\n",
    "\n",
    "    # MHA\n",
    "    mha_out, st_mha = Lux.apply(blk.mha, (Xn1, Xn1, Xn1), ps_blk.mha, st_blk.mha)\n",
    "    A = mha_out isa Tuple ? mha_out[1] : mha_out                          # (d, L, B)\n",
    "\n",
    "    @assert size(A) == size(X) \"MHA output must be (d,L,B); got $(size(A)) vs $(size(X))\"\n",
    "    X1 = X .+ A\n",
    "\n",
    "    # FFN (tokenwise) + residual\n",
    "    Xn2, st_ln2 = apply_tokenwise(blk.ln2, ps_blk.ln2, st_blk.ln2, X1)    # (d, L, B)\n",
    "    F,   st_ff  = apply_tokenwise_chain(blk.ff, ps_blk.ff, st_blk.ff, Xn2)# (d, L, B)\n",
    "    X2 = X1 .+ F\n",
    "\n",
    "    st_out = (; mha=st_mha, ln1=st_ln1, ff=st_ff, ln2=st_ln2)\n",
    "    return X2, st_out\n",
    "end\n",
    "\n",
    "\n"
   ]
  },
  {
   "cell_type": "code",
   "execution_count": 74,
   "id": "e5b25e93",
   "metadata": {},
   "outputs": [
    {
     "data": {
      "text/plain": [
       "build_models (generic function with 1 method)"
      ]
     },
     "metadata": {},
     "output_type": "display_data"
    }
   ],
   "source": [
    "function build_models(cfg)\n",
    "    d_in, d_hid, d_out   = cfg.d_in, cfg.d_hid, cfg.d_out\n",
    "    d_embed, num_tokens  = cfg.d_embed, cfg.num_tokens\n",
    "\n",
    "    # input encoders\n",
    "    tok_emb    = num_tokens > 0 ? Lux.Embedding(num_tokens, d_embed, Lux.glorot_uniform) : nothing\n",
    "    emb_to_hid = Lux.Dense(d_embed => d_hid, NNlib.gelu)     # IDs path (pool or concat upstream)\n",
    "    raw_to_hid = Lux.Dense(d_in => d_hid, NNlib.gelu)        #  raw float path\n",
    "\n",
    "    # linear adapters that produce the three micro-sequence tokens for L\n",
    "    l_token_from_low  = Lux.Dense(d_hid => d_hid)  # low_state  -> token\n",
    "    l_token_from_task = Lux.Dense(d_hid => d_hid)  # e_task     -> token\n",
    "    l_token_from_high = Lux.Dense(d_hid => d_hid)  # high_state -> token\n",
    "\n",
    "    # L-module encoder block (over 3 tokens)\n",
    "    #Lblk = make_transformer_block(d_hid; num_heads=cfg.l_heads, ff_mult=cfg.l_ff_mult, dropout_prob=cfg.dropout)\n",
    "    Lblk = make_transformer_block(cfg.d_hid;\n",
    "          nheads = cfg.l_heads,\n",
    "          ff_mult = cfg.l_ff_mult,\n",
    "          attention_dropout_probability = cfg.dropout)\n",
    "\n",
    "    # H-module encoder block (over T tokens = the saved low states)\n",
    "    #Hblk = make_transformer_block(d_hid; num_heads=cfg.h_heads, ff_mult=cfg.h_ff_mult, dropout_prob=cfg.dropout)\n",
    "    Hblk = make_transformer_block(cfg.d_hid;\n",
    "          nheads = cfg.h_heads,\n",
    "          ff_mult = cfg.h_ff_mult,\n",
    "          attention_dropout_probability = cfg.dropout)\n",
    "\n",
    "    # optional post-pool projection for H\n",
    "    Hpost = Lux.Chain(Lux.Dense(d_hid => d_hid, NNlib.gelu))\n",
    "\n",
    "    # readout\n",
    "    fO = Lux.Chain(Lux.Dense(d_hid => d_out))\n",
    "\n",
    "    return (; tok_emb, emb_to_hid, raw_to_hid,\n",
    "             l_token_from_low, l_token_from_task, l_token_from_high,\n",
    "             Lblk, Hblk, Hpost, fO)\n",
    "end\n"
   ]
  },
  {
   "cell_type": "code",
   "execution_count": 75,
   "id": "80aebd6c",
   "metadata": {},
   "outputs": [
    {
     "data": {
      "text/plain": [
       "setup_params_states (generic function with 1 method)"
      ]
     },
     "metadata": {},
     "output_type": "display_data"
    }
   ],
   "source": [
    "function setup_params_states(models)\n",
    "    rng = Random.default_rng()\n",
    "\n",
    "    # input\n",
    "    if models.tok_emb === nothing\n",
    "        psEmb, stEmb = nothing, nothing\n",
    "    else\n",
    "        psEmb, stEmb = Lux.setup(rng, models.tok_emb)\n",
    "    end\n",
    "    psEH,  stEH  = Lux.setup(rng, models.emb_to_hid)\n",
    "    psRaw, stRaw = Lux.setup(rng, models.raw_to_hid)\n",
    "\n",
    "    # L micro-sequence projections\n",
    "    psLlow, stLlow = Lux.setup(rng, models.l_token_from_low)\n",
    "    psLtsk, stLtsk = Lux.setup(rng, models.l_token_from_task)\n",
    "    psLhig, stLhig = Lux.setup(rng, models.l_token_from_high)\n",
    "\n",
    "    # L block\n",
    "    psL = (mha = Lux.setup(rng, models.Lblk.mha)[1],\n",
    "           ln1 = Lux.setup(rng, models.Lblk.ln1)[1],\n",
    "           ff  = Lux.setup(rng, models.Lblk.ff )[1],\n",
    "           ln2 = Lux.setup(rng, models.Lblk.ln2)[1])\n",
    "    stL = (mha = Lux.setup(rng, models.Lblk.mha)[2],\n",
    "           ln1 = Lux.setup(rng, models.Lblk.ln1)[2],\n",
    "           ff  = Lux.setup(rng, models.Lblk.ff )[2],\n",
    "           ln2 = Lux.setup(rng, models.Lblk.ln2)[2])\n",
    "\n",
    "    # H block\n",
    "    psH = (mha = Lux.setup(rng, models.Hblk.mha)[1],\n",
    "           ln1 = Lux.setup(rng, models.Hblk.ln1)[1],\n",
    "           ff  = Lux.setup(rng, models.Hblk.ff )[1],\n",
    "           ln2 = Lux.setup(rng, models.Hblk.ln2)[1])\n",
    "    stH = (mha = Lux.setup(rng, models.Hblk.mha)[2],\n",
    "           ln1 = Lux.setup(rng, models.Hblk.ln1)[2],\n",
    "           ff  = Lux.setup(rng, models.Hblk.ff )[2],\n",
    "           ln2 = Lux.setup(rng, models.Hblk.ln2)[2])\n",
    "\n",
    "    # H post\n",
    "    psHP, stHP = Lux.setup(rng, models.Hpost)\n",
    "\n",
    "    # head\n",
    "    psO,  stO  = Lux.setup(rng, models.fO)\n",
    "\n",
    "    ps = (Emb=psEmb, EH=psEH, Raw=psRaw,\n",
    "          Llow=psLlow, Ltsk=psLtsk, Lhig=psLhig,\n",
    "          L=psL, H=psH, HP=psHP, O=psO)\n",
    "    st = (Emb=stEmb, EH=stEH, Raw=stRaw,\n",
    "          Llow=stLlow, Ltsk=stLtsk, Lhig=stLhig,\n",
    "          L=stL, H=stH, HP=stHP, O=stO)\n",
    "    return ps, st\n",
    "end\n"
   ]
  },
  {
   "cell_type": "code",
   "execution_count": 76,
   "id": "4af53b9f",
   "metadata": {},
   "outputs": [
    {
     "data": {
      "text/plain": [
       "init_states (generic function with 1 method)"
      ]
     },
     "metadata": {},
     "output_type": "display_data"
    }
   ],
   "source": [
    "loss_fn(yhat, y) = mean(abs2, yhat .- y)\n",
    "\n",
    "function init_states(batch::Int, d::Int)\n",
    "    return (zeros(Float32, d, batch), zeros(Float32, d, batch))  # (low, high)\n",
    "end"
   ]
  },
  {
   "cell_type": "code",
   "execution_count": 80,
   "id": "573d559f",
   "metadata": {},
   "outputs": [
    {
     "data": {
      "text/plain": [
       "run_segment! (generic function with 1 method)"
      ]
     },
     "metadata": {},
     "output_type": "display_data"
    }
   ],
   "source": [
    "# utility: mean over length axis -> (d, B)\n",
    "_mean_over_len = x -> dropdims(mean(x; dims=2), dims=2)\n",
    "\n",
    "function run_segment!(models, ps, st, x_in, low_state, high_state; N::Int, T::Int, cfg)\n",
    "    stEmb, stEH, stRaw = st.Emb, st.EH, st.Raw\n",
    "    stLlow, stLtsk, stLhig = st.Llow, st.Ltsk, st.Lhig\n",
    "    stL, stH, stHP = st.L, st.H, st.HP\n",
    "\n",
    "    # >>> encode input into task vector in hidden space (no attention at input)\n",
    "    if cfg.num_tokens > 0\n",
    "        E, stEmb = Lux.apply(models.tok_emb, x_in, ps.Emb, st.Emb)                 # (d_embed, d_in, B)\n",
    "        e_task, stEH = Lux.apply(models.emb_to_hid, _mean_over_len(E), ps.EH, st.EH) # (d_hid, B)\n",
    "        stRaw = st.Raw\n",
    "    else\n",
    "        e_task, stRaw = Lux.apply(models.raw_to_hid, x_in, ps.Raw, st.Raw)         # (d_hid, B)\n",
    "    end\n",
    "\n",
    "    @inbounds for k in 1:N\n",
    "        # Collect low states for H without mutating plain arrays (Zygote-friendly).\n",
    "        # Use a Buffer shaped (d_hid, T, B) and materialize once after the loop.\n",
    "        Lbuf = Zygote.Buffer(zeros(Float32, size(low_state,1), T, size(low_state,2)))\n",
    "\n",
    "        for t in 1:T\n",
    "            # >>> L micro-sequence tokens (length = 3)\n",
    "            tok_low, stLlow = Lux.apply(models.l_token_from_low,  low_state,  ps.Llow, stLlow)  # (d_hid,B)\n",
    "            tok_tsk, stLtsk = Lux.apply(models.l_token_from_task, e_task,     ps.Ltsk, stLtsk)  # (d_hid,B)\n",
    "            tok_hig, stLhig = Lux.apply(models.l_token_from_high, high_state, ps.Lhig, stLhig)  # (d_hid,B)\n",
    "\n",
    "            # Build (d_hid, L=3, B)\n",
    "            Xl = permutedims(cat(tok_low, tok_tsk, tok_hig; dims=3), (1, 3, 2))\n",
    "\n",
    "            # One L transformer block over the 3 tokens\n",
    "            Xl_out, stL = transformer_block_forward!(models.Lblk, ps.L, stL, Xl)    # (d_hid, 3, B)\n",
    "\n",
    "            # Take token-1 as updated low state (residual already inside)\n",
    "            @views low_state = Xl_out[:, 1, :]  # (d_hid, B)\n",
    "\n",
    "            # Store into Buffer (allowed during AD)\n",
    "            @views Lbuf[:, t, :] = low_state\n",
    "        end\n",
    "\n",
    "        # >>> H transformer over the sequence of T low states\n",
    "        H_in = copy(Lbuf)  # materialize Array{Float32,3} (d_hid, T, B)\n",
    "        H_out, stH = transformer_block_forward!(models.Hblk, ps.H, stH, H_in)\n",
    "\n",
    "        # pool over steps and post-project\n",
    "        H_vec = _mean_over_len(H_out)                          # (d_hid, B)\n",
    "        H_vec, stHP = Lux.apply(models.Hpost, H_vec, ps.HP, stHP)\n",
    "\n",
    "        # residual update of high state (simple add)\n",
    "        high_state = high_state .+ H_vec\n",
    "    end\n",
    "\n",
    "    yhat, stO = Lux.apply(models.fO, high_state, ps.O, st.O)\n",
    "\n",
    "    st_new = (Emb=stEmb, EH=stEH, Raw=stRaw,\n",
    "              Llow=stLlow, Ltsk=stLtsk, Lhig=stLhig,\n",
    "              L=stL, H=stH, HP=stHP, O=stO)\n",
    "    return yhat, st_new, low_state, high_state\n",
    "end\n"
   ]
  },
  {
   "cell_type": "code",
   "execution_count": 81,
   "id": "5cacd70f",
   "metadata": {},
   "outputs": [
    {
     "data": {
      "text/plain": [
       "train_step! (generic function with 1 method)"
      ]
     },
     "metadata": {},
     "output_type": "display_data"
    }
   ],
   "source": [
    "function train_step!(models, ps, st, opt, gen, cfg)\n",
    "    x, y = sample!(gen, cfg.batch)\n",
    "\n",
    "    # choose the input representation one time\n",
    "    x_in =\n",
    "        cfg.num_tokens > 0 ?\n",
    "            quantize_to_tokens(x; num_tokens=cfg.num_tokens, lo=LO, hi=HI) :\n",
    "            x  # raw floats\n",
    "\n",
    "    low_state, high_state = init_states(cfg.batch, cfg.d_hid)\n",
    "    total_loss = 0.0f0\n",
    "\n",
    "    for m in 1:cfg.M\n",
    "        function seg_loss(ps_local)\n",
    "            yhat, st_new, low_new, high_new =\n",
    "                run_segment!(models, ps_local, st, x_in, low_state, high_state;\n",
    "                             N=cfg.N, T=cfg.T, cfg=cfg)\n",
    "            L = loss_fn(yhat, y)\n",
    "            return L, (st_new, low_new, high_new)\n",
    "        end\n",
    "\n",
    "        (L, (st_new, low_new, high_new)), back = Zygote.pullback(seg_loss, ps)\n",
    "        grads = back((one(L), nothing))[1]\n",
    "        opt, ps = Optimisers.update(opt, ps, grads)\n",
    "        st = st_new\n",
    "        total_loss += L\n",
    "\n",
    "        low_state  = Zygote.dropgrad(low_new)\n",
    "        high_state = Zygote.dropgrad(high_new)\n",
    "    end\n",
    "\n",
    "    return total_loss, ps, st, opt\n",
    "end\n"
   ]
  },
  {
   "cell_type": "code",
   "execution_count": 82,
   "id": "5ab02950",
   "metadata": {},
   "outputs": [
    {
     "name": "stderr",
     "output_type": "stream",
     "text": [
      "┌ Info: step=25 loss=3.075\n",
      "└ @ Main /home/resort/Documents/repos/JuliaExploreHRM/03_attention/jl_notebook_cell_df34fa98e69747e1a8f8a730347b8e2f_X15sZmlsZQ==.jl:11\n",
      "┌ Info: step=50 loss=1.8307\n",
      "└ @ Main /home/resort/Documents/repos/JuliaExploreHRM/03_attention/jl_notebook_cell_df34fa98e69747e1a8f8a730347b8e2f_X15sZmlsZQ==.jl:11\n",
      "┌ Info: step=75 loss=1.4557\n",
      "└ @ Main /home/resort/Documents/repos/JuliaExploreHRM/03_attention/jl_notebook_cell_df34fa98e69747e1a8f8a730347b8e2f_X15sZmlsZQ==.jl:11\n",
      "┌ Info: step=100 loss=0.5807\n",
      "└ @ Main /home/resort/Documents/repos/JuliaExploreHRM/03_attention/jl_notebook_cell_df34fa98e69747e1a8f8a730347b8e2f_X15sZmlsZQ==.jl:11\n",
      "┌ Info: step=125 loss=0.5543\n",
      "└ @ Main /home/resort/Documents/repos/JuliaExploreHRM/03_attention/jl_notebook_cell_df34fa98e69747e1a8f8a730347b8e2f_X15sZmlsZQ==.jl:11\n",
      "┌ Info: step=150 loss=1.1498\n",
      "└ @ Main /home/resort/Documents/repos/JuliaExploreHRM/03_attention/jl_notebook_cell_df34fa98e69747e1a8f8a730347b8e2f_X15sZmlsZQ==.jl:11\n",
      "┌ Info: step=175 loss=0.2893\n",
      "└ @ Main /home/resort/Documents/repos/JuliaExploreHRM/03_attention/jl_notebook_cell_df34fa98e69747e1a8f8a730347b8e2f_X15sZmlsZQ==.jl:11\n",
      "┌ Info: step=200 loss=0.3763\n",
      "└ @ Main /home/resort/Documents/repos/JuliaExploreHRM/03_attention/jl_notebook_cell_df34fa98e69747e1a8f8a730347b8e2f_X15sZmlsZQ==.jl:11\n",
      "┌ Info: step=225 loss=0.5657\n",
      "└ @ Main /home/resort/Documents/repos/JuliaExploreHRM/03_attention/jl_notebook_cell_df34fa98e69747e1a8f8a730347b8e2f_X15sZmlsZQ==.jl:11\n",
      "┌ Info: step=250 loss=0.3251\n",
      "└ @ Main /home/resort/Documents/repos/JuliaExploreHRM/03_attention/jl_notebook_cell_df34fa98e69747e1a8f8a730347b8e2f_X15sZmlsZQ==.jl:11\n",
      "┌ Info: step=275 loss=0.2817\n",
      "└ @ Main /home/resort/Documents/repos/JuliaExploreHRM/03_attention/jl_notebook_cell_df34fa98e69747e1a8f8a730347b8e2f_X15sZmlsZQ==.jl:11\n",
      "┌ Info: step=300 loss=0.2165\n",
      "└ @ Main /home/resort/Documents/repos/JuliaExploreHRM/03_attention/jl_notebook_cell_df34fa98e69747e1a8f8a730347b8e2f_X15sZmlsZQ==.jl:11\n"
     ]
    }
   ],
   "source": [
    "models = build_models(CFG)\n",
    "ps, st  = setup_params_states(models)\n",
    "opt     = Optimisers.setup(Optimisers.Adam(CFG.lr), ps)\n",
    "gen     = ToyGen(CFG.d_in; seed=421)\n",
    "\n",
    "loss_hist = Float32[]\n",
    "for step in 1:CFG.steps\n",
    "    L, ps, st, opt = train_step!(models, ps, st, opt, gen, CFG)\n",
    "    push!(loss_hist, L)\n",
    "    if step % 25 == 0\n",
    "        @info \"step=$(step) loss=$(round(L; digits=4))\"\n",
    "    end\n",
    "end"
   ]
  },
  {
   "cell_type": "code",
   "execution_count": 83,
   "id": "f02cb852",
   "metadata": {},
   "outputs": [
    {
     "data": {
      "image/png": "[encoded data removed]",
      "image/svg+xml": [
       "<?xml version=\"1.0\" encoding=\"utf-8\"?>\n",
       "<svg xmlns=\"http://www.w3.org/2000/svg\" xmlns:xlink=\"http://www.w3.org/1999/xlink\" width=\"600\" height=\"400\" viewBox=\"0 0 2400 1600\">\n",
       "<defs>\n",
       "  <clipPath id=\"clip180\">\n",
       "    <rect x=\"0\" y=\"0\" width=\"2400\" height=\"1600\"/>\n",
       "  </clipPath>\n",
       "</defs>\n",
       "<path clip-path=\"url(#clip180)\" d=\"M0 1600 L2400 1600 L2400 0 L0 0  Z\" fill=\"#ffffff\" fill-rule=\"evenodd\" fill-opacity=\"1\"/>\n",
       "<defs>\n",
       "  <clipPath id=\"clip181\">\n",
       "    <rect x=\"480\" y=\"0\" width=\"1681\" height=\"1600\"/>\n",
       "  </clipPath>\n",
       "</defs>\n",
       "<path clip-path=\"url(#clip180)\" d=\"M140.696 1486.45 L2352.76 1486.45 L2352.76 123.472 L140.696 123.472  Z\" fill=\"#ffffff\" fill-rule=\"evenodd\" fill-opacity=\"1\"/>\n",
       "<defs>\n",
       "  <clipPath id=\"clip182\">\n",
       "    <rect x=\"140\" y=\"123\" width=\"2213\" height=\"1364\"/>\n",
       "  </clipPath>\n",
       "</defs>\n",
       "<polyline clip-path=\"url(#clip182)\" style=\"stroke:#000000; stroke-linecap:round; stroke-linejoin:round; stroke-width:2; stroke-opacity:0.1; fill:none\" points=\"196.322,1486.45 196.322,123.472 \"/>\n",
       "<polyline clip-path=\"url(#clip182)\" style=\"stroke:#000000; stroke-linecap:round; stroke-linejoin:round; stroke-width:2; stroke-opacity:0.1; fill:none\" points=\"894.265,1486.45 894.265,123.472 \"/>\n",
       "<polyline clip-path=\"url(#clip182)\" style=\"stroke:#000000; stroke-linecap:round; stroke-linejoin:round; stroke-width:2; stroke-opacity:0.1; fill:none\" points=\"1592.21,1486.45 1592.21,123.472 \"/>\n",
       "<polyline clip-path=\"url(#clip182)\" style=\"stroke:#000000; stroke-linecap:round; stroke-linejoin:round; stroke-width:2; stroke-opacity:0.1; fill:none\" points=\"2290.15,1486.45 2290.15,123.472 \"/>\n",
       "<polyline clip-path=\"url(#clip182)\" style=\"stroke:#000000; stroke-linecap:round; stroke-linejoin:round; stroke-width:2; stroke-opacity:0.1; fill:none\" points=\"140.696,1458.36 2352.76,1458.36 \"/>\n",
       "<polyline clip-path=\"url(#clip182)\" style=\"stroke:#000000; stroke-linecap:round; stroke-linejoin:round; stroke-width:2; stroke-opacity:0.1; fill:none\" points=\"140.696,1134.3 2352.76,1134.3 \"/>\n",
       "<polyline clip-path=\"url(#clip182)\" style=\"stroke:#000000; stroke-linecap:round; stroke-linejoin:round; stroke-width:2; stroke-opacity:0.1; fill:none\" points=\"140.696,810.241 2352.76,810.241 \"/>\n",
       "<polyline clip-path=\"url(#clip182)\" style=\"stroke:#000000; stroke-linecap:round; stroke-linejoin:round; stroke-width:2; stroke-opacity:0.1; fill:none\" points=\"140.696,486.183 2352.76,486.183 \"/>\n",
       "<polyline clip-path=\"url(#clip182)\" style=\"stroke:#000000; stroke-linecap:round; stroke-linejoin:round; stroke-width:2; stroke-opacity:0.1; fill:none\" points=\"140.696,162.126 2352.76,162.126 \"/>\n",
       "<polyline clip-path=\"url(#clip180)\" style=\"stroke:#000000; stroke-linecap:round; stroke-linejoin:round; stroke-width:4; stroke-opacity:1; fill:none\" points=\"140.696,1486.45 2352.76,1486.45 \"/>\n",
       "<polyline clip-path=\"url(#clip180)\" style=\"stroke:#000000; stroke-linecap:round; stroke-linejoin:round; stroke-width:4; stroke-opacity:1; fill:none\" points=\"196.322,1486.45 196.322,1467.55 \"/>\n",
       "<polyline clip-path=\"url(#clip180)\" style=\"stroke:#000000; stroke-linecap:round; stroke-linejoin:round; stroke-width:4; stroke-opacity:1; fill:none\" points=\"894.265,1486.45 894.265,1467.55 \"/>\n",
       "<polyline clip-path=\"url(#clip180)\" style=\"stroke:#000000; stroke-linecap:round; stroke-linejoin:round; stroke-width:4; stroke-opacity:1; fill:none\" points=\"1592.21,1486.45 1592.21,1467.55 \"/>\n",
       "<polyline clip-path=\"url(#clip180)\" style=\"stroke:#000000; stroke-linecap:round; stroke-linejoin:round; stroke-width:4; stroke-opacity:1; fill:none\" points=\"2290.15,1486.45 2290.15,1467.55 \"/>\n",
       "<path clip-path=\"url(#clip180)\" d=\"M196.322 1517.37 Q192.711 1517.37 190.882 1520.93 Q189.076 1524.47 189.076 1531.6 Q189.076 1538.71 190.882 1542.27 Q192.711 1545.82 196.322 1545.82 Q199.956 1545.82 201.761 1542.27 Q203.59 1538.71 203.59 1531.6 Q203.59 1524.47 201.761 1520.93 Q199.956 1517.37 196.322 1517.37 M196.322 1513.66 Q202.132 1513.66 205.187 1518.27 Q208.266 1522.85 208.266 1531.6 Q208.266 1540.33 205.187 1544.94 Q202.132 1549.52 196.322 1549.52 Q190.511 1549.52 187.433 1544.94 Q184.377 1540.33 184.377 1531.6 Q184.377 1522.85 187.433 1518.27 Q190.511 1513.66 196.322 1513.66 Z\" fill=\"#000000\" fill-rule=\"nonzero\" fill-opacity=\"1\" /><path clip-path=\"url(#clip180)\" d=\"M853.871 1544.91 L861.51 1544.91 L861.51 1518.55 L853.2 1520.21 L853.2 1515.95 L861.464 1514.29 L866.14 1514.29 L866.14 1544.91 L873.779 1544.91 L873.779 1548.85 L853.871 1548.85 L853.871 1544.91 Z\" fill=\"#000000\" fill-rule=\"nonzero\" fill-opacity=\"1\" /><path clip-path=\"url(#clip180)\" d=\"M893.223 1517.37 Q889.612 1517.37 887.783 1520.93 Q885.978 1524.47 885.978 1531.6 Q885.978 1538.71 887.783 1542.27 Q889.612 1545.82 893.223 1545.82 Q896.857 1545.82 898.663 1542.27 Q900.491 1538.71 900.491 1531.6 Q900.491 1524.47 898.663 1520.93 Q896.857 1517.37 893.223 1517.37 M893.223 1513.66 Q899.033 1513.66 902.089 1518.27 Q905.167 1522.85 905.167 1531.6 Q905.167 1540.33 902.089 1544.94 Q899.033 1549.52 893.223 1549.52 Q887.413 1549.52 884.334 1544.94 Q881.278 1540.33 881.278 1531.6 Q881.278 1522.85 884.334 1518.27 Q887.413 1513.66 893.223 1513.66 Z\" fill=\"#000000\" fill-rule=\"nonzero\" fill-opacity=\"1\" /><path clip-path=\"url(#clip180)\" d=\"M923.385 1517.37 Q919.774 1517.37 917.945 1520.93 Q916.139 1524.47 916.139 1531.6 Q916.139 1538.71 917.945 1542.27 Q919.774 1545.82 923.385 1545.82 Q927.019 1545.82 928.825 1542.27 Q930.653 1538.71 930.653 1531.6 Q930.653 1524.47 928.825 1520.93 Q927.019 1517.37 923.385 1517.37 M923.385 1513.66 Q929.195 1513.66 932.25 1518.27 Q935.329 1522.85 935.329 1531.6 Q935.329 1540.33 932.25 1544.94 Q929.195 1549.52 923.385 1549.52 Q917.575 1549.52 914.496 1544.94 Q911.44 1540.33 911.44 1531.6 Q911.44 1522.85 914.496 1518.27 Q917.575 1513.66 923.385 1513.66 Z\" fill=\"#000000\" fill-rule=\"nonzero\" fill-opacity=\"1\" /><path clip-path=\"url(#clip180)\" d=\"M1555.9 1544.91 L1572.22 1544.91 L1572.22 1548.85 L1550.27 1548.85 L1550.27 1544.91 Q1552.94 1542.16 1557.52 1537.53 Q1562.13 1532.88 1563.31 1531.53 Q1565.55 1529.01 1566.43 1527.27 Q1567.33 1525.51 1567.33 1523.82 Q1567.33 1521.07 1565.39 1519.33 Q1563.47 1517.6 1560.37 1517.6 Q1558.17 1517.6 1555.71 1518.36 Q1553.28 1519.13 1550.51 1520.68 L1550.51 1515.95 Q1553.33 1514.82 1555.78 1514.24 Q1558.24 1513.66 1560.27 1513.66 Q1565.65 1513.66 1568.84 1516.35 Q1572.03 1519.03 1572.03 1523.52 Q1572.03 1525.65 1571.22 1527.57 Q1570.44 1529.47 1568.33 1532.07 Q1567.75 1532.74 1564.65 1535.95 Q1561.55 1539.15 1555.9 1544.91 Z\" fill=\"#000000\" fill-rule=\"nonzero\" fill-opacity=\"1\" /><path clip-path=\"url(#clip180)\" d=\"M1592.03 1517.37 Q1588.42 1517.37 1586.59 1520.93 Q1584.79 1524.47 1584.79 1531.6 Q1584.79 1538.71 1586.59 1542.27 Q1588.42 1545.82 1592.03 1545.82 Q1595.67 1545.82 1597.47 1542.27 Q1599.3 1538.71 1599.3 1531.6 Q1599.3 1524.47 1597.47 1520.93 Q1595.67 1517.37 1592.03 1517.37 M1592.03 1513.66 Q1597.84 1513.66 1600.9 1518.27 Q1603.98 1522.85 1603.98 1531.6 Q1603.98 1540.33 1600.9 1544.94 Q1597.84 1549.52 1592.03 1549.52 Q1586.22 1549.52 1583.15 1544.94 Q1580.09 1540.33 1580.09 1531.6 Q1580.09 1522.85 1583.15 1518.27 Q1586.22 1513.66 1592.03 1513.66 Z\" fill=\"#000000\" fill-rule=\"nonzero\" fill-opacity=\"1\" /><path clip-path=\"url(#clip180)\" d=\"M1622.2 1517.37 Q1618.58 1517.37 1616.76 1520.93 Q1614.95 1524.47 1614.95 1531.6 Q1614.95 1538.71 1616.76 1542.27 Q1618.58 1545.82 1622.2 1545.82 Q1625.83 1545.82 1627.64 1542.27 Q1629.46 1538.71 1629.46 1531.6 Q1629.46 1524.47 1627.64 1520.93 Q1625.83 1517.37 1622.2 1517.37 M1622.2 1513.66 Q1628.01 1513.66 1631.06 1518.27 Q1634.14 1522.85 1634.14 1531.6 Q1634.14 1540.33 1631.06 1544.94 Q1628.01 1549.52 1622.2 1549.52 Q1616.39 1549.52 1613.31 1544.94 Q1610.25 1540.33 1610.25 1531.6 Q1610.25 1522.85 1613.31 1518.27 Q1616.39 1513.66 1622.2 1513.66 Z\" fill=\"#000000\" fill-rule=\"nonzero\" fill-opacity=\"1\" /><path clip-path=\"url(#clip180)\" d=\"M2263.91 1530.21 Q2267.27 1530.93 2269.14 1533.2 Q2271.04 1535.47 2271.04 1538.8 Q2271.04 1543.92 2267.52 1546.72 Q2264 1549.52 2257.52 1549.52 Q2255.35 1549.52 2253.03 1549.08 Q2250.74 1548.66 2248.29 1547.81 L2248.29 1543.29 Q2250.23 1544.43 2252.55 1545.01 Q2254.86 1545.58 2257.38 1545.58 Q2261.78 1545.58 2264.07 1543.85 Q2266.39 1542.11 2266.39 1538.8 Q2266.39 1535.75 2264.24 1534.03 Q2262.11 1532.3 2258.29 1532.3 L2254.26 1532.3 L2254.26 1528.45 L2258.47 1528.45 Q2261.92 1528.45 2263.75 1527.09 Q2265.58 1525.7 2265.58 1523.11 Q2265.58 1520.45 2263.68 1519.03 Q2261.81 1517.6 2258.29 1517.6 Q2256.37 1517.6 2254.17 1518.01 Q2251.97 1518.43 2249.33 1519.31 L2249.33 1515.14 Q2251.99 1514.4 2254.31 1514.03 Q2256.64 1513.66 2258.7 1513.66 Q2264.03 1513.66 2267.13 1516.09 Q2270.23 1518.5 2270.23 1522.62 Q2270.23 1525.49 2268.59 1527.48 Q2266.94 1529.45 2263.91 1530.21 Z\" fill=\"#000000\" fill-rule=\"nonzero\" fill-opacity=\"1\" /><path clip-path=\"url(#clip180)\" d=\"M2289.91 1517.37 Q2286.3 1517.37 2284.47 1520.93 Q2282.66 1524.47 2282.66 1531.6 Q2282.66 1538.71 2284.47 1542.27 Q2286.3 1545.82 2289.91 1545.82 Q2293.54 1545.82 2295.35 1542.27 Q2297.18 1538.71 2297.18 1531.6 Q2297.18 1524.47 2295.35 1520.93 Q2293.54 1517.37 2289.91 1517.37 M2289.91 1513.66 Q2295.72 1513.66 2298.77 1518.27 Q2301.85 1522.85 2301.85 1531.6 Q2301.85 1540.33 2298.77 1544.94 Q2295.72 1549.52 2289.91 1549.52 Q2284.1 1549.52 2281.02 1544.94 Q2277.96 1540.33 2277.96 1531.6 Q2277.96 1522.85 2281.02 1518.27 Q2284.1 1513.66 2289.91 1513.66 Z\" fill=\"#000000\" fill-rule=\"nonzero\" fill-opacity=\"1\" /><path clip-path=\"url(#clip180)\" d=\"M2320.07 1517.37 Q2316.46 1517.37 2314.63 1520.93 Q2312.82 1524.47 2312.82 1531.6 Q2312.82 1538.71 2314.63 1542.27 Q2316.46 1545.82 2320.07 1545.82 Q2323.7 1545.82 2325.51 1542.27 Q2327.34 1538.71 2327.34 1531.6 Q2327.34 1524.47 2325.51 1520.93 Q2323.7 1517.37 2320.07 1517.37 M2320.07 1513.66 Q2325.88 1513.66 2328.93 1518.27 Q2332.01 1522.85 2332.01 1531.6 Q2332.01 1540.33 2328.93 1544.94 Q2325.88 1549.52 2320.07 1549.52 Q2314.26 1549.52 2311.18 1544.94 Q2308.12 1540.33 2308.12 1531.6 Q2308.12 1522.85 2311.18 1518.27 Q2314.26 1513.66 2320.07 1513.66 Z\" fill=\"#000000\" fill-rule=\"nonzero\" fill-opacity=\"1\" /><polyline clip-path=\"url(#clip180)\" style=\"stroke:#000000; stroke-linecap:round; stroke-linejoin:round; stroke-width:4; stroke-opacity:1; fill:none\" points=\"140.696,1486.45 140.696,123.472 \"/>\n",
       "<polyline clip-path=\"url(#clip180)\" style=\"stroke:#000000; stroke-linecap:round; stroke-linejoin:round; stroke-width:4; stroke-opacity:1; fill:none\" points=\"140.696,1458.36 159.593,1458.36 \"/>\n",
       "<polyline clip-path=\"url(#clip180)\" style=\"stroke:#000000; stroke-linecap:round; stroke-linejoin:round; stroke-width:4; stroke-opacity:1; fill:none\" points=\"140.696,1134.3 159.593,1134.3 \"/>\n",
       "<polyline clip-path=\"url(#clip180)\" style=\"stroke:#000000; stroke-linecap:round; stroke-linejoin:round; stroke-width:4; stroke-opacity:1; fill:none\" points=\"140.696,810.241 159.593,810.241 \"/>\n",
       "<polyline clip-path=\"url(#clip180)\" style=\"stroke:#000000; stroke-linecap:round; stroke-linejoin:round; stroke-width:4; stroke-opacity:1; fill:none\" points=\"140.696,486.183 159.593,486.183 \"/>\n",
       "<polyline clip-path=\"url(#clip180)\" style=\"stroke:#000000; stroke-linecap:round; stroke-linejoin:round; stroke-width:4; stroke-opacity:1; fill:none\" points=\"140.696,162.126 159.593,162.126 \"/>\n",
       "<path clip-path=\"url(#clip180)\" d=\"M92.7512 1444.15 Q89.1401 1444.15 87.3114 1447.72 Q85.5058 1451.26 85.5058 1458.39 Q85.5058 1465.5 87.3114 1469.06 Q89.1401 1472.6 92.7512 1472.6 Q96.3854 1472.6 98.1909 1469.06 Q100.02 1465.5 100.02 1458.39 Q100.02 1451.26 98.1909 1447.72 Q96.3854 1444.15 92.7512 1444.15 M92.7512 1440.45 Q98.5613 1440.45 101.617 1445.06 Q104.696 1449.64 104.696 1458.39 Q104.696 1467.12 101.617 1471.72 Q98.5613 1476.31 92.7512 1476.31 Q86.941 1476.31 83.8623 1471.72 Q80.8068 1467.12 80.8068 1458.39 Q80.8068 1449.64 83.8623 1445.06 Q86.941 1440.45 92.7512 1440.45 Z\" fill=\"#000000\" fill-rule=\"nonzero\" fill-opacity=\"1\" /><path clip-path=\"url(#clip180)\" d=\"M83.7929 1117.02 L102.149 1117.02 L102.149 1120.95 L88.0753 1120.95 L88.0753 1129.43 Q89.0938 1129.08 90.1123 1128.92 Q91.1308 1128.73 92.1493 1128.73 Q97.9363 1128.73 101.316 1131.9 Q104.696 1135.07 104.696 1140.49 Q104.696 1146.07 101.223 1149.17 Q97.7511 1152.25 91.4317 1152.25 Q89.2558 1152.25 86.9873 1151.88 Q84.7419 1151.51 82.3346 1150.77 L82.3346 1146.07 Q84.4179 1147.2 86.6401 1147.76 Q88.8623 1148.31 91.3391 1148.31 Q95.3437 1148.31 97.6817 1146.21 Q100.02 1144.1 100.02 1140.49 Q100.02 1136.88 97.6817 1134.77 Q95.3437 1132.67 91.3391 1132.67 Q89.4641 1132.67 87.5892 1133.08 Q85.7373 1133.5 83.7929 1134.38 L83.7929 1117.02 Z\" fill=\"#000000\" fill-rule=\"nonzero\" fill-opacity=\"1\" /><path clip-path=\"url(#clip180)\" d=\"M53.3995 823.586 L61.0384 823.586 L61.0384 797.22 L52.7282 798.887 L52.7282 794.627 L60.9921 792.961 L65.668 792.961 L65.668 823.586 L73.3068 823.586 L73.3068 827.521 L53.3995 827.521 L53.3995 823.586 Z\" fill=\"#000000\" fill-rule=\"nonzero\" fill-opacity=\"1\" /><path clip-path=\"url(#clip180)\" d=\"M92.7512 796.039 Q89.1401 796.039 87.3114 799.604 Q85.5058 803.146 85.5058 810.275 Q85.5058 817.382 87.3114 820.947 Q89.1401 824.488 92.7512 824.488 Q96.3854 824.488 98.1909 820.947 Q100.02 817.382 100.02 810.275 Q100.02 803.146 98.1909 799.604 Q96.3854 796.039 92.7512 796.039 M92.7512 792.336 Q98.5613 792.336 101.617 796.942 Q104.696 801.525 104.696 810.275 Q104.696 819.002 101.617 823.609 Q98.5613 828.192 92.7512 828.192 Q86.941 828.192 83.8623 823.609 Q80.8068 819.002 80.8068 810.275 Q80.8068 801.525 83.8623 796.942 Q86.941 792.336 92.7512 792.336 Z\" fill=\"#000000\" fill-rule=\"nonzero\" fill-opacity=\"1\" /><path clip-path=\"url(#clip180)\" d=\"M54.3949 499.528 L62.0337 499.528 L62.0337 473.163 L53.7236 474.829 L53.7236 470.57 L61.9874 468.903 L66.6633 468.903 L66.6633 499.528 L74.3022 499.528 L74.3022 503.463 L54.3949 503.463 L54.3949 499.528 Z\" fill=\"#000000\" fill-rule=\"nonzero\" fill-opacity=\"1\" /><path clip-path=\"url(#clip180)\" d=\"M83.7929 468.903 L102.149 468.903 L102.149 472.839 L88.0753 472.839 L88.0753 481.311 Q89.0938 480.964 90.1123 480.801 Q91.1308 480.616 92.1493 480.616 Q97.9363 480.616 101.316 483.788 Q104.696 486.959 104.696 492.376 Q104.696 497.954 101.223 501.056 Q97.7511 504.135 91.4317 504.135 Q89.2558 504.135 86.9873 503.764 Q84.7419 503.394 82.3346 502.653 L82.3346 497.954 Q84.4179 499.088 86.6401 499.644 Q88.8623 500.2 91.3391 500.2 Q95.3437 500.2 97.6817 498.093 Q100.02 495.987 100.02 492.376 Q100.02 488.764 97.6817 486.658 Q95.3437 484.551 91.3391 484.551 Q89.4641 484.551 87.5892 484.968 Q85.7373 485.385 83.7929 486.264 L83.7929 468.903 Z\" fill=\"#000000\" fill-rule=\"nonzero\" fill-opacity=\"1\" /><path clip-path=\"url(#clip180)\" d=\"M56.6171 175.471 L72.9365 175.471 L72.9365 179.406 L50.9921 179.406 L50.9921 175.471 Q53.6541 172.716 58.2375 168.087 Q62.8439 163.434 64.0245 162.091 Q66.2698 159.568 67.1494 157.832 Q68.0522 156.073 68.0522 154.383 Q68.0522 151.629 66.1078 149.892 Q64.1865 148.156 61.0847 148.156 Q58.8856 148.156 56.4319 148.92 Q54.0014 149.684 51.2236 151.235 L51.2236 146.513 Q54.0477 145.379 56.5014 144.8 Q58.955 144.221 60.9921 144.221 Q66.3624 144.221 69.5568 146.906 Q72.7513 149.591 72.7513 154.082 Q72.7513 156.212 71.9411 158.133 Q71.1541 160.031 69.0476 162.624 Q68.4689 163.295 65.367 166.513 Q62.2652 169.707 56.6171 175.471 Z\" fill=\"#000000\" fill-rule=\"nonzero\" fill-opacity=\"1\" /><path clip-path=\"url(#clip180)\" d=\"M92.7512 147.925 Q89.1401 147.925 87.3114 151.49 Q85.5058 155.031 85.5058 162.161 Q85.5058 169.267 87.3114 172.832 Q89.1401 176.374 92.7512 176.374 Q96.3854 176.374 98.1909 172.832 Q100.02 169.267 100.02 162.161 Q100.02 155.031 98.1909 151.49 Q96.3854 147.925 92.7512 147.925 M92.7512 144.221 Q98.5613 144.221 101.617 148.828 Q104.696 153.411 104.696 162.161 Q104.696 170.888 101.617 175.494 Q98.5613 180.077 92.7512 180.077 Q86.941 180.077 83.8623 175.494 Q80.8068 170.888 80.8068 162.161 Q80.8068 153.411 83.8623 148.828 Q86.941 144.221 92.7512 144.221 Z\" fill=\"#000000\" fill-rule=\"nonzero\" fill-opacity=\"1\" /><path clip-path=\"url(#clip180)\" d=\"M1125.4 9.54393 L1132.85 9.54393 L1132.85 72.576 L1125.4 72.576 L1125.4 9.54393 Z\" fill=\"#000000\" fill-rule=\"nonzero\" fill-opacity=\"1\" /><path clip-path=\"url(#clip180)\" d=\"M1166.03 32.4315 Q1160.04 32.4315 1156.55 37.1306 Q1153.07 41.7891 1153.07 49.9314 Q1153.07 58.0738 1156.51 62.7728 Q1160 67.4314 1166.03 67.4314 Q1171.99 67.4314 1175.47 62.7323 Q1178.95 58.0333 1178.95 49.9314 Q1178.95 41.8701 1175.47 37.1711 Q1171.99 32.4315 1166.03 32.4315 M1166.03 26.1121 Q1175.75 26.1121 1181.3 32.4315 Q1186.85 38.7509 1186.85 49.9314 Q1186.85 61.0714 1181.3 67.4314 Q1175.75 73.7508 1166.03 73.7508 Q1156.27 73.7508 1150.72 67.4314 Q1145.21 61.0714 1145.21 49.9314 Q1145.21 38.7509 1150.72 32.4315 Q1156.27 26.1121 1166.03 26.1121 Z\" fill=\"#000000\" fill-rule=\"nonzero\" fill-opacity=\"1\" /><path clip-path=\"url(#clip180)\" d=\"M1228.13 28.5427 L1228.13 35.5912 Q1224.97 33.9709 1221.57 33.1607 Q1218.17 32.3505 1214.52 32.3505 Q1208.97 32.3505 1206.18 34.0519 Q1203.42 35.7533 1203.42 39.156 Q1203.42 41.7486 1205.41 43.2475 Q1207.39 44.7058 1213.39 46.0426 L1215.94 46.6097 Q1223.88 48.3111 1227.2 51.4303 Q1230.56 54.509 1230.56 60.0587 Q1230.56 66.3781 1225.54 70.0644 Q1220.56 73.7508 1211.81 73.7508 Q1208.16 73.7508 1204.19 73.0216 Q1200.26 72.3329 1195.89 70.9151 L1195.89 63.2184 Q1200.02 65.3654 1204.03 66.4591 Q1208.04 67.5124 1211.97 67.5124 Q1217.24 67.5124 1220.07 65.73 Q1222.91 63.9071 1222.91 60.6258 Q1222.91 57.5877 1220.84 55.9673 Q1218.81 54.3469 1211.89 52.8481 L1209.3 52.2405 Q1202.37 50.7821 1199.29 47.7845 Q1196.21 44.7463 1196.21 39.4801 Q1196.21 33.0797 1200.75 29.5959 Q1205.28 26.1121 1213.63 26.1121 Q1217.76 26.1121 1221.41 26.7198 Q1225.05 27.3274 1228.13 28.5427 Z\" fill=\"#000000\" fill-rule=\"nonzero\" fill-opacity=\"1\" /><path clip-path=\"url(#clip180)\" d=\"M1271.36 28.5427 L1271.36 35.5912 Q1268.2 33.9709 1264.79 33.1607 Q1261.39 32.3505 1257.74 32.3505 Q1252.19 32.3505 1249.4 34.0519 Q1246.64 35.7533 1246.64 39.156 Q1246.64 41.7486 1248.63 43.2475 Q1250.61 44.7058 1256.61 46.0426 L1259.16 46.6097 Q1267.1 48.3111 1270.42 51.4303 Q1273.79 54.509 1273.79 60.0587 Q1273.79 66.3781 1268.76 70.0644 Q1263.78 73.7508 1255.03 73.7508 Q1251.38 73.7508 1247.41 73.0216 Q1243.49 72.3329 1239.11 70.9151 L1239.11 63.2184 Q1243.24 65.3654 1247.25 66.4591 Q1251.26 67.5124 1255.19 67.5124 Q1260.46 67.5124 1263.29 65.73 Q1266.13 63.9071 1266.13 60.6258 Q1266.13 57.5877 1264.06 55.9673 Q1262.04 54.3469 1255.11 52.8481 L1252.52 52.2405 Q1245.59 50.7821 1242.51 47.7845 Q1239.43 44.7463 1239.43 39.4801 Q1239.43 33.0797 1243.97 29.5959 Q1248.51 26.1121 1256.85 26.1121 Q1260.98 26.1121 1264.63 26.7198 Q1268.28 27.3274 1271.36 28.5427 Z\" fill=\"#000000\" fill-rule=\"nonzero\" fill-opacity=\"1\" /><path clip-path=\"url(#clip180)\" d=\"M1324.46 48.0275 L1324.46 51.6733 L1290.19 51.6733 Q1290.68 59.3701 1294.81 63.421 Q1298.98 67.4314 1306.4 67.4314 Q1310.69 67.4314 1314.7 66.3781 Q1318.75 65.3249 1322.72 63.2184 L1322.72 70.267 Q1318.71 71.9684 1314.5 72.8596 Q1310.28 73.7508 1305.95 73.7508 Q1295.09 73.7508 1288.73 67.4314 Q1282.41 61.1119 1282.41 50.3365 Q1282.41 39.1965 1288.41 32.6746 Q1294.45 26.1121 1304.65 26.1121 Q1313.81 26.1121 1319.12 32.0264 Q1324.46 37.9003 1324.46 48.0275 M1317.01 45.84 Q1316.93 39.7232 1313.57 36.0774 Q1310.24 32.4315 1304.73 32.4315 Q1298.5 32.4315 1294.73 35.9558 Q1291 39.4801 1290.43 45.8805 L1317.01 45.84 Z\" fill=\"#000000\" fill-rule=\"nonzero\" fill-opacity=\"1\" /><path clip-path=\"url(#clip180)\" d=\"M1365.62 28.5427 L1365.62 35.5912 Q1362.46 33.9709 1359.06 33.1607 Q1355.65 32.3505 1352.01 32.3505 Q1346.46 32.3505 1343.66 34.0519 Q1340.91 35.7533 1340.91 39.156 Q1340.91 41.7486 1342.89 43.2475 Q1344.88 44.7058 1350.87 46.0426 L1353.43 46.6097 Q1361.37 48.3111 1364.69 51.4303 Q1368.05 54.509 1368.05 60.0587 Q1368.05 66.3781 1363.03 70.0644 Q1358.04 73.7508 1349.29 73.7508 Q1345.65 73.7508 1341.68 73.0216 Q1337.75 72.3329 1333.37 70.9151 L1333.37 63.2184 Q1337.51 65.3654 1341.52 66.4591 Q1345.53 67.5124 1349.46 67.5124 Q1354.72 67.5124 1357.56 65.73 Q1360.39 63.9071 1360.39 60.6258 Q1360.39 57.5877 1358.33 55.9673 Q1356.3 54.3469 1349.38 52.8481 L1346.78 52.2405 Q1339.86 50.7821 1336.78 47.7845 Q1333.7 44.7463 1333.7 39.4801 Q1333.7 33.0797 1338.24 29.5959 Q1342.77 26.1121 1351.12 26.1121 Q1355.25 26.1121 1358.9 26.7198 Q1362.54 27.3274 1365.62 28.5427 Z\" fill=\"#000000\" fill-rule=\"nonzero\" fill-opacity=\"1\" /><polyline clip-path=\"url(#clip182)\" style=\"stroke:#009af9; stroke-linecap:round; stroke-linejoin:round; stroke-width:16; stroke-opacity:1; fill:none\" points=\"203.301,162.047 210.28,297.666 217.26,377.615 224.239,528.048 231.219,829.487 238.198,703.433 245.178,860.149 252.157,895.993 259.136,881.233 266.116,1141.54 273.095,1105.13 280.075,816.035 287.054,1241.33 294.034,1211.05 301.013,1238.25 307.992,1133.82 314.972,1163.86 321.951,1131.49 328.931,1213.62 335.91,1282.21 342.89,1105.66 349.869,1228.71 356.848,1279.36 363.828,980.282 370.807,1259.06 377.787,1326.04 384.766,1232.06 391.746,1283.14 398.725,1313.01 405.704,1234.17 412.684,1313.28 419.663,1312.18 426.643,1322.9 433.622,1324.34 440.602,1313.99 447.581,1318.41 454.56,1367.38 461.54,1339.85 468.519,1280.93 475.499,1347.57 482.478,1339.06 489.458,1342.21 496.437,1337.71 503.416,1347.18 510.396,1340.64 517.375,1351.05 524.355,1347.8 531.334,1353.77 538.314,1377.57 545.293,1339.71 552.272,1349.95 559.252,1344.5 566.231,1374.37 573.211,1364.43 580.19,1363.18 587.17,1361.8 594.149,1378.38 601.129,1388.09 608.108,1362.81 615.087,1333.72 622.067,1395.61 629.046,1372.26 636.026,1395.34 643.005,1347.35 649.985,1353.81 656.964,1388.18 663.943,1371.08 670.923,1365.16 677.902,1408.16 684.882,1376.99 691.861,1364.32 698.841,1394.46 705.82,1337.4 712.799,1424.98 719.779,1364.01 726.758,1394.04 733.738,1397.79 740.717,1409.61 747.697,1425.05 754.676,1400.43 761.655,1398.67 768.635,1402.71 775.614,1371.92 782.594,1414.52 789.573,1409.86 796.553,1409.78 803.532,1388.47 810.511,1412.95 817.491,1405.58 824.47,1403.39 831.45,1418.12 838.429,1420.37 845.409,1405.28 852.388,1415.14 859.367,1400.87 866.347,1412.81 873.326,1413.71 880.306,1383.97 887.285,1408.95 894.265,1420.72 901.244,1421.89 908.223,1344.91 915.203,1402.07 922.182,1422.99 929.162,1408.56 936.141,1422.62 943.121,1359.45 950.1,1403.51 957.079,1406.08 964.059,1406.42 971.038,1405.3 978.018,1400.94 984.997,1419.4 991.977,1427.47 998.956,1417.33 1005.94,1427.96 1012.91,1413.32 1019.89,1429.66 1026.87,1414.87 1033.85,1422.75 1040.83,1407.62 1047.81,1422.22 1054.79,1422.54 1061.77,1418.72 1068.75,1422.43 1075.73,1425.02 1082.71,1422.62 1089.69,1424.42 1096.67,1431.82 1103.65,1435.75 1110.63,1422.83 1117.61,1435.68 1124.59,1424.7 1131.57,1434.9 1138.54,1433.44 1145.52,1422.95 1152.5,1423.08 1159.48,1433.99 1166.46,1423.13 1173.44,1430.35 1180.42,1431.75 1187.4,1417.68 1194.38,1420.15 1201.36,1420.66 1208.34,1426.92 1215.32,1430.55 1222.3,1424.34 1229.28,1432.38 1236.26,1440.41 1243.24,1383.84 1250.22,1431.76 1257.19,1432.57 1264.17,1398.62 1271.15,1419.57 1278.13,1414.5 1285.11,1393.79 1292.09,1440.02 1299.07,1433.72 1306.05,1418.95 1313.03,1427.69 1320.01,1428.41 1326.99,1412.79 1333.97,1441.9 1340.95,1434.9 1347.93,1433.44 1354.91,1432.63 1361.89,1417.15 1368.87,1428.26 1375.85,1407.65 1382.82,1433.19 1389.8,1432.02 1396.78,1427.62 1403.76,1439.9 1410.74,1434.67 1417.72,1439.6 1424.7,1427.92 1431.68,1426.91 1438.66,1430.87 1445.64,1420.87 1452.62,1419.8 1459.6,1436.22 1466.58,1437.03 1473.56,1418.19 1480.54,1433.89 1487.52,1432.92 1494.5,1441.82 1501.47,1432.34 1508.45,1427.87 1515.43,1434.43 1522.41,1437.51 1529.39,1433.74 1536.37,1438.64 1543.35,1424.39 1550.33,1440.14 1557.31,1441.44 1564.29,1428.26 1571.27,1424.56 1578.25,1441.24 1585.23,1439.09 1592.21,1433.96 1599.19,1439.16 1606.17,1427.94 1613.15,1422.64 1620.13,1427.22 1627.1,1427.15 1634.08,1432.43 1641.06,1430.37 1648.04,1438.75 1655.02,1368.9 1662,1445.52 1668.98,1437.02 1675.96,1427.4 1682.94,1434.74 1689.92,1433.53 1696.9,1441.32 1703.88,1439.24 1710.86,1438.73 1717.84,1429.59 1724.82,1438.49 1731.8,1436.15 1738.78,1427.19 1745.75,1434.57 1752.73,1438.34 1759.71,1434.01 1766.69,1421.69 1773.67,1433.47 1780.65,1434.95 1787.63,1419.32 1794.61,1436.26 1801.59,1440.63 1808.57,1415.79 1815.55,1408.14 1822.53,1386.06 1829.51,1395.93 1836.49,1375.46 1843.47,1435.45 1850.45,1400.78 1857.43,1412.63 1864.41,1423.91 1871.38,1436.92 1878.36,1398.29 1885.34,1427.29 1892.32,1428.67 1899.3,1437.21 1906.28,1440.54 1913.26,1419.11 1920.24,1434.82 1927.22,1447.55 1934.2,1418.1 1941.18,1437.28 1948.16,1418.64 1955.14,1430.06 1962.12,1441.86 1969.1,1436.15 1976.08,1444.62 1983.06,1441.76 1990.03,1442.28 1997.01,1441.89 2003.99,1444.05 2010.97,1432.37 2017.95,1446.76 2024.93,1447.87 2031.91,1445.46 2038.89,1444.79 2045.87,1433.98 2052.85,1429.76 2059.83,1420.86 2066.81,1436.12 2073.79,1441.5 2080.77,1441.25 2087.75,1441.56 2094.73,1429.42 2101.71,1438.26 2108.69,1441.84 2115.66,1440.1 2122.64,1432.01 2129.62,1441.42 2136.6,1424.6 2143.58,1442.9 2150.56,1445.83 2157.54,1442.31 2164.52,1440.71 2171.5,1441.68 2178.48,1438.69 2185.46,1436.56 2192.44,1437.72 2199.42,1430.73 2206.4,1439.96 2213.38,1443.42 2220.36,1435.97 2227.34,1435.71 2234.31,1418.87 2241.29,1425.05 2248.27,1428.41 2255.25,1433.22 2262.23,1427.14 2269.21,1440.38 2276.19,1444.61 2283.17,1431.19 2290.15,1444.32 \"/>\n",
       "</svg>\n"
      ],
      "text/html": [
       "<img src=\"data:image/png;base64,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\" />"
      ]
     },
     "metadata": {},
     "output_type": "display_data"
    }
   ],
   "source": [
    "p = plot(loss_hist, title=\"losses\", linewidth=4, legend=false)\n",
    "savefig(p,\"figures/losses.png\")\n",
    "display(p)"
   ]
  },
  {
   "cell_type": "code",
   "execution_count": null,
   "id": "06b9d09f",
   "metadata": {},
   "outputs": [],
   "source": []
  },
  {
   "cell_type": "code",
   "execution_count": null,
   "id": "d97f8306",
   "metadata": {},
   "outputs": [],
   "source": []
  },
  {
   "cell_type": "code",
   "execution_count": null,
   "id": "8ead1331",
   "metadata": {},
   "outputs": [],
   "source": []
  },
  {
   "cell_type": "code",
   "execution_count": null,
   "id": "64770f08",
   "metadata": {},
   "outputs": [],
   "source": []
  },
  {
   "cell_type": "code",
   "execution_count": null,
   "id": "c60bae9b",
   "metadata": {},
   "outputs": [],
   "source": []
  },
  {
   "cell_type": "code",
   "execution_count": null,
   "id": "244b389e",
   "metadata": {},
   "outputs": [],
   "source": []
  },
  {
   "cell_type": "code",
   "execution_count": null,
   "id": "32175846",
   "metadata": {},
   "outputs": [],
   "source": []
  },
  {
   "cell_type": "code",
   "execution_count": null,
   "id": "86ca6198",
   "metadata": {},
   "outputs": [],
   "source": []
  }
 ],
 "metadata": {
  "kernelspec": {
   "display_name": "Julia 1.10.9",
   "language": "julia",
   "name": "julia-1.10"
  },
  "language_info": {
   "file_extension": ".jl",
   "mimetype": "application/julia",
   "name": "julia",
   "version": "1.10.9"
  }
 },
 "nbformat": 4,
 "nbformat_minor": 5
}
