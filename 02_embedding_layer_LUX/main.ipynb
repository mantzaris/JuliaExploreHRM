{
 "cells": [
  {
   "cell_type": "code",
   "execution_count": 1,
   "id": "4170cebb",
   "metadata": {},
   "outputs": [
    {
     "name": "stderr",
     "output_type": "stream",
     "text": [
      "\u001b[32m\u001b[1m  Activating\u001b[22m\u001b[39m project at `~/Documents/repos/JuliaExploreHRM`\n"
     ]
    }
   ],
   "source": [
    "using Pkg\n",
    "Pkg.activate(\"..\")  #one level up, where Project.toml lives\n",
    "Pkg.instantiate()   #download/install anything missing\n",
    "# Pkg.status();"
   ]
  },
  {
   "cell_type": "code",
   "execution_count": 2,
   "id": "84d3f85f",
   "metadata": {},
   "outputs": [
    {
     "data": {
      "text/plain": [
       "testo (generic function with 1 method)"
      ]
     },
     "metadata": {},
     "output_type": "display_data"
    }
   ],
   "source": [
    "include(joinpath(@__DIR__, \"..\", \"hrm_common.jl\"))"
   ]
  },
  {
   "cell_type": "code",
   "execution_count": 3,
   "id": "be956144",
   "metadata": {},
   "outputs": [],
   "source": [
    "using Plots, Test"
   ]
  },
  {
   "cell_type": "code",
   "execution_count": null,
   "id": "a0424e58",
   "metadata": {},
   "outputs": [],
   "source": []
  },
  {
   "cell_type": "code",
   "execution_count": 38,
   "id": "ac1dcdd5",
   "metadata": {},
   "outputs": [
    {
     "data": {
      "text/plain": [
       "sample! (generic function with 1 method)"
      ]
     },
     "metadata": {},
     "output_type": "display_data"
    }
   ],
   "source": [
    "#data generator\n",
    "# y = w^T x + 0.1 * ||x||^2 + eps, where ( eps is N(0, 0.01) )\n",
    "\n",
    "struct ToyGen\n",
    "    w::Vector{Float32}\n",
    "end\n",
    "\n",
    "function ToyGen(d_in::Int; seed::Int=123)\n",
    "    Random.seed!(seed)\n",
    "    w = randn(Float32, d_in)\n",
    "    return ToyGen(w)\n",
    "end\n",
    "\n",
    "#returns (x, y) with shapes (d_in, batch), (1, batch)\n",
    "function sample!(gen::ToyGen, batch::Int)\n",
    "    d = length(gen.w)\n",
    "    x = randn(Float32, d, batch)\n",
    "    # linear part\n",
    "    y_lin = gen.w' * x      # (1, batch)\n",
    "    # small quadratic interaction\n",
    "    y_quad = 0.1f0 .* sum(abs2, x; dims=1)    # (1, batch)\n",
    "    # noise\n",
    "    eps = 0.01f0 .* randn(Float32, 1, batch)\n",
    "    y = Float32.(y_lin .+ y_quad .+ eps)\n",
    "    return x, y\n",
    "end"
   ]
  },
  {
   "cell_type": "code",
   "execution_count": 39,
   "id": "3a6003db",
   "metadata": {},
   "outputs": [
    {
     "data": {
      "text/plain": [
       "TaskLocalRNG()"
      ]
     },
     "metadata": {},
     "output_type": "display_data"
    }
   ],
   "source": [
    "CFG = (\n",
    "    num_tokens = 128, # vocabulary size per feature\n",
    "    d_embed    = 32,   # embedding width per feature\n",
    "\n",
    "    d_in   = 16,     # input features\n",
    "    d_hid  = 64,     # hidden/state size (L and H)\n",
    "    d_out  = 1,      # output size\n",
    "    N      = 2,      # high-level cycles per segment\n",
    "    T      = 3,      # low-level steps per H cycle\n",
    "    M      = 1,      # segments per batch\n",
    "    batch  = 64,     # batch size\n",
    "    lr     = 1e-3,   # learning rate\n",
    "    steps  = 300,    # training steps\n",
    "    seed   = 42      # RNG seed\n",
    ")\n",
    "\n",
    "Random.seed!(42)"
   ]
  },
  {
   "cell_type": "code",
   "execution_count": 41,
   "id": "a4e1540c",
   "metadata": {},
   "outputs": [
    {
     "data": {
      "text/plain": [
       "quantize_to_tokens (generic function with 1 method)"
      ]
     },
     "metadata": {},
     "output_type": "display_data"
    }
   ],
   "source": [
    "\"\"\"\n",
    "    quantize_to_tokens(x; num_tokens::Int, lo::Real, hi::Real)\n",
    "\n",
    "Uniformly bins each element of x in [lo, hi] into 1..num_tokens.\n",
    "Clamps values outside [lo, hi] to the nearest edge bin.\n",
    "\"\"\"\n",
    "LO = -3.0\n",
    "HI =  3.0\n",
    "\n",
    "function quantize_to_tokens(x; num_tokens::Int, lo::Real, hi::Real)\n",
    "    @assert num_tokens >= 2\n",
    "    # normalize to [0,1]\n",
    "    xn = @. clamp((x - lo) / (hi - lo + eps(eltype(x))), 0, 1)\n",
    "    # map to 0..num_tokens-1, then shift to 1..num_tokens\n",
    "    ids = floor.(Int, xn .* (num_tokens - 1)) .+ 1\n",
    "    return ids\n",
    "end"
   ]
  },
  {
   "cell_type": "code",
   "execution_count": 32,
   "id": "4dc4fd10",
   "metadata": {},
   "outputs": [
    {
     "data": {
      "text/plain": [
       "build_models (generic function with 1 method)"
      ]
     },
     "metadata": {},
     "output_type": "display_data"
    }
   ],
   "source": [
    "function build_models(cfg)\n",
    "    d_in, d_hid, d_out = cfg.d_in, cfg.d_hid, cfg.d_out\n",
    "    num_tokens, d_embed = cfg.num_tokens, cfg.d_embed\n",
    "\n",
    "    # per-feature token embedding, then pool features, then project to d_hid\n",
    "    fI = Lux.Chain(\n",
    "        Lux.Embedding(num_tokens, d_embed, Lux.glorot_uniform), # or Lux.glorot_normal\n",
    "        # pool over the feature axis (2nd dim) -> (d_embed, batch)\n",
    "        x -> dropdims(mean(x; dims=2), dims=2),\n",
    "        Lux.Dense(d_embed => d_hid, NNlib.gelu)\n",
    "    )\n",
    "\n",
    "    # projections used inside fL/fH\n",
    "    proj_task = Lux.Chain(Lux.Dense(d_hid => d_hid))\n",
    "    proj_high = Lux.Chain(Lux.Dense(d_hid => d_hid))\n",
    "    proj_low  = Lux.Chain(Lux.Dense(d_hid => d_hid))\n",
    "\n",
    "    # MLP \"cells\" (unchanged)\n",
    "    fL_cell = Lux.Chain(\n",
    "        Lux.LayerNorm(d_hid),\n",
    "        Lux.Dense(d_hid => 4d_hid, NNlib.gelu),\n",
    "        Lux.Dense(4d_hid => d_hid)\n",
    "    )\n",
    "    fH_cell = Lux.Chain(\n",
    "        Lux.LayerNorm(d_hid),\n",
    "        Lux.Dense(d_hid => 4d_hid, NNlib.gelu),\n",
    "        Lux.Dense(4d_hid => d_hid)\n",
    "    )\n",
    "\n",
    "    fO = Lux.Chain(Lux.Dense(d_hid => d_out))\n",
    "\n",
    "    return (; fI, proj_task, proj_high, proj_low, fL_cell, fH_cell, fO)\n",
    "end\n"
   ]
  },
  {
   "cell_type": "code",
   "execution_count": 33,
   "id": "e5f8ef87",
   "metadata": {},
   "outputs": [
    {
     "data": {
      "text/plain": [
       "setup_params_states (generic function with 1 method)"
      ]
     },
     "metadata": {},
     "output_type": "display_data"
    }
   ],
   "source": [
    "\n",
    "function setup_params_states(models)\n",
    "    rng = Random.default_rng()\n",
    "    psI,  stI  = Lux.setup(rng, models.fI)\n",
    "    psPT, stPT = Lux.setup(rng, models.proj_task)\n",
    "    psPH, stPH = Lux.setup(rng, models.proj_high)\n",
    "    psPL, stPL = Lux.setup(rng, models.proj_low)\n",
    "    psLc, stLc = Lux.setup(rng, models.fL_cell)\n",
    "    psHc, stHc = Lux.setup(rng, models.fH_cell)\n",
    "    psO,  stO  = Lux.setup(rng, models.fO)\n",
    "\n",
    "    ps = (I=psI, PT=psPT, PH=psPH, PL=psPL, Lc=psLc, Hc=psHc, O=psO)\n",
    "    st = (I=stI, PT=stPT, PH=stPH, PL=stPL, Lc=stLc, Hc=stHc, O=stO)\n",
    "    return ps, st\n",
    "end"
   ]
  },
  {
   "cell_type": "code",
   "execution_count": 34,
   "id": "5c784d99",
   "metadata": {},
   "outputs": [
    {
     "data": {
      "text/plain": [
       "init_states (generic function with 1 method)"
      ]
     },
     "metadata": {},
     "output_type": "display_data"
    }
   ],
   "source": [
    "loss_fn(yhat, y) = mean(abs2, yhat .- y)\n",
    "\n",
    "function init_states(batch::Int, d::Int)\n",
    "    return (zeros(Float32, d, batch), zeros(Float32, d, batch))  # (low, high)\n",
    "end"
   ]
  },
  {
   "cell_type": "code",
   "execution_count": 35,
   "id": "012f9dec",
   "metadata": {},
   "outputs": [
    {
     "data": {
      "text/plain": [
       "run_segment! (generic function with 1 method)"
      ]
     },
     "metadata": {},
     "output_type": "display_data"
    }
   ],
   "source": [
    "function run_segment!(models, ps, st, x, low_state, high_state; N::Int, T::Int)\n",
    "    # task embedding from input\n",
    "    e_task, stI = Lux.apply(models.fI, x, ps.I, st.I)\n",
    "\n",
    "    stPT, stPH, stPL, stLc, stHc = st.PT, st.PH, st.PL, st.Lc, st.Hc\n",
    "\n",
    "    for k in 1:N\n",
    "        # low-level T steps\n",
    "        for t in 1:T\n",
    "            et,  stPT = Lux.apply(models.proj_task, e_task,      ps.PT, stPT)\n",
    "            hh,  stPH = Lux.apply(models.proj_high, high_state,  ps.PH, stPH)\n",
    "            xL = low_state .+ et .+ hh\n",
    "            yL, stLc = Lux.apply(models.fL_cell, xL, ps.Lc, stLc)\n",
    "            low_state = xL .+ yL\n",
    "        end\n",
    "        # one high-level step\n",
    "        ll,  stPL = Lux.apply(models.proj_low, low_state, ps.PL, stPL)\n",
    "        xH = high_state .+ ll\n",
    "        yH, stHc = Lux.apply(models.fH_cell, xH, ps.Hc, stHc)\n",
    "        high_state = xH .+ yH\n",
    "    end\n",
    "\n",
    "    yhat, stO = Lux.apply(models.fO, high_state, ps.O, st.O)\n",
    "    st_new = (I=stI, PT=stPT, PH=stPH, PL=stPL, Lc=stLc, Hc=stHc, O=stO)\n",
    "    return yhat, st_new, low_state, high_state\n",
    "end"
   ]
  },
  {
   "cell_type": "code",
   "execution_count": 36,
   "id": "a48ac529",
   "metadata": {},
   "outputs": [
    {
     "data": {
      "text/plain": [
       "train_step! (generic function with 1 method)"
      ]
     },
     "metadata": {},
     "output_type": "display_data"
    }
   ],
   "source": [
    "function train_step!(models, ps, st, opt, gen, cfg)\n",
    "    # batch from generator (floats)\n",
    "    x, y = sample!(gen, cfg.batch)\n",
    "\n",
    "    # NEW: quantize floats → integer token IDs\n",
    "    x_ids = quantize_to_tokens(x; num_tokens=cfg.num_tokens, lo=LO, hi=HI)\n",
    "\n",
    "    # recurrent states\n",
    "    low_state, high_state = init_states(cfg.batch, cfg.d_hid)\n",
    "\n",
    "    total_loss = 0.0f0\n",
    "\n",
    "    for m in 1:cfg.M\n",
    "        function seg_loss(ps_local)\n",
    "            # pass x_ids instead of x\n",
    "            yhat, st_new, low_new, high_new =\n",
    "                run_segment!(models, ps_local, st, x_ids, low_state, high_state; N=cfg.N, T=cfg.T)\n",
    "            L = loss_fn(yhat, y)\n",
    "            return L, (st_new, low_new, high_new)\n",
    "        end\n",
    "\n",
    "        (L, (st_new, low_new, high_new)), back = Zygote.pullback(seg_loss, ps)\n",
    "        grads = back((one(L), nothing))[1]\n",
    "        opt, ps = Optimisers.update(opt, ps, grads)\n",
    "        st = st_new\n",
    "        total_loss += L\n",
    "\n",
    "        low_state  = Zygote.dropgrad(low_new)\n",
    "        high_state = Zygote.dropgrad(high_new)\n",
    "    end\n",
    "\n",
    "    return total_loss, ps, st, opt\n",
    "end"
   ]
  },
  {
   "cell_type": "code",
   "execution_count": 42,
   "id": "19eccc43",
   "metadata": {},
   "outputs": [
    {
     "name": "stderr",
     "output_type": "stream",
     "text": [
      "┌ Info: step=25 loss=16.7863\n",
      "└ @ Main /home/resort/Documents/repos/JuliaExploreHRM/02_semi_canonical/jl_notebook_cell_df34fa98e69747e1a8f8a730347b8e2f_W4sZmlsZQ==.jl:11\n",
      "┌ Info: step=50 loss=16.9428\n",
      "└ @ Main /home/resort/Documents/repos/JuliaExploreHRM/02_semi_canonical/jl_notebook_cell_df34fa98e69747e1a8f8a730347b8e2f_W4sZmlsZQ==.jl:11\n",
      "┌ Info: step=75 loss=13.4779\n",
      "└ @ Main /home/resort/Documents/repos/JuliaExploreHRM/02_semi_canonical/jl_notebook_cell_df34fa98e69747e1a8f8a730347b8e2f_W4sZmlsZQ==.jl:11\n",
      "┌ Info: step=100 loss=15.5021\n",
      "└ @ Main /home/resort/Documents/repos/JuliaExploreHRM/02_semi_canonical/jl_notebook_cell_df34fa98e69747e1a8f8a730347b8e2f_W4sZmlsZQ==.jl:11\n",
      "┌ Info: step=125 loss=12.8922\n",
      "└ @ Main /home/resort/Documents/repos/JuliaExploreHRM/02_semi_canonical/jl_notebook_cell_df34fa98e69747e1a8f8a730347b8e2f_W4sZmlsZQ==.jl:11\n",
      "┌ Info: step=150 loss=19.7489\n",
      "└ @ Main /home/resort/Documents/repos/JuliaExploreHRM/02_semi_canonical/jl_notebook_cell_df34fa98e69747e1a8f8a730347b8e2f_W4sZmlsZQ==.jl:11\n",
      "┌ Info: step=175 loss=15.3754\n",
      "└ @ Main /home/resort/Documents/repos/JuliaExploreHRM/02_semi_canonical/jl_notebook_cell_df34fa98e69747e1a8f8a730347b8e2f_W4sZmlsZQ==.jl:11\n",
      "┌ Info: step=200 loss=19.8522\n",
      "└ @ Main /home/resort/Documents/repos/JuliaExploreHRM/02_semi_canonical/jl_notebook_cell_df34fa98e69747e1a8f8a730347b8e2f_W4sZmlsZQ==.jl:11\n",
      "┌ Info: step=225 loss=21.7763\n",
      "└ @ Main /home/resort/Documents/repos/JuliaExploreHRM/02_semi_canonical/jl_notebook_cell_df34fa98e69747e1a8f8a730347b8e2f_W4sZmlsZQ==.jl:11\n",
      "┌ Info: step=250 loss=14.5395\n",
      "└ @ Main /home/resort/Documents/repos/JuliaExploreHRM/02_semi_canonical/jl_notebook_cell_df34fa98e69747e1a8f8a730347b8e2f_W4sZmlsZQ==.jl:11\n",
      "┌ Info: step=275 loss=19.1822\n",
      "└ @ Main /home/resort/Documents/repos/JuliaExploreHRM/02_semi_canonical/jl_notebook_cell_df34fa98e69747e1a8f8a730347b8e2f_W4sZmlsZQ==.jl:11\n",
      "┌ Info: step=300 loss=16.1884\n",
      "└ @ Main /home/resort/Documents/repos/JuliaExploreHRM/02_semi_canonical/jl_notebook_cell_df34fa98e69747e1a8f8a730347b8e2f_W4sZmlsZQ==.jl:11\n"
     ]
    }
   ],
   "source": [
    "models = build_models(CFG)\n",
    "ps, st  = setup_params_states(models)\n",
    "opt     = Optimisers.setup(Optimisers.Adam(CFG.lr), ps)\n",
    "gen     = ToyGen(CFG.d_in; seed=421)\n",
    "\n",
    "loss_hist = Float32[]\n",
    "for step in 1:CFG.steps\n",
    "    L, ps, st, opt = train_step!(models, ps, st, opt, gen, CFG)\n",
    "    push!(loss_hist, L)\n",
    "    if step % 25 == 0\n",
    "        @info \"step=$(step) loss=$(round(L; digits=4))\"\n",
    "    end\n",
    "end"
   ]
  },
  {
   "cell_type": "code",
   "execution_count": 43,
   "id": "1b729c07",
   "metadata": {},
   "outputs": [
    {
     "data": {
      "image/png": "[encoded data removed]",
      "image/svg+xml": [
       "<?xml version=\"1.0\" encoding=\"utf-8\"?>\n",
       "<svg xmlns=\"http://www.w3.org/2000/svg\" xmlns:xlink=\"http://www.w3.org/1999/xlink\" width=\"600\" height=\"400\" viewBox=\"0 0 2400 1600\">\n",
       "<defs>\n",
       "  <clipPath id=\"clip210\">\n",
       "    <rect x=\"0\" y=\"0\" width=\"2400\" height=\"1600\"/>\n",
       "  </clipPath>\n",
       "</defs>\n",
       "<path clip-path=\"url(#clip210)\" d=\"M0 1600 L2400 1600 L2400 0 L0 0  Z\" fill=\"#ffffff\" fill-rule=\"evenodd\" fill-opacity=\"1\"/>\n",
       "<defs>\n",
       "  <clipPath id=\"clip211\">\n",
       "    <rect x=\"480\" y=\"0\" width=\"1681\" height=\"1600\"/>\n",
       "  </clipPath>\n",
       "</defs>\n",
       "<path clip-path=\"url(#clip210)\" d=\"M172.015 1486.45 L2352.76 1486.45 L2352.76 123.472 L172.015 123.472  Z\" fill=\"#ffffff\" fill-rule=\"evenodd\" fill-opacity=\"1\"/>\n",
       "<defs>\n",
       "  <clipPath id=\"clip212\">\n",
       "    <rect x=\"172\" y=\"123\" width=\"2182\" height=\"1364\"/>\n",
       "  </clipPath>\n",
       "</defs>\n",
       "<polyline clip-path=\"url(#clip212)\" style=\"stroke:#000000; stroke-linecap:round; stroke-linejoin:round; stroke-width:2; stroke-opacity:0.1; fill:none\" points=\"226.853,1486.45 226.853,123.472 \"/>\n",
       "<polyline clip-path=\"url(#clip212)\" style=\"stroke:#000000; stroke-linecap:round; stroke-linejoin:round; stroke-width:2; stroke-opacity:0.1; fill:none\" points=\"914.914,1486.45 914.914,123.472 \"/>\n",
       "<polyline clip-path=\"url(#clip212)\" style=\"stroke:#000000; stroke-linecap:round; stroke-linejoin:round; stroke-width:2; stroke-opacity:0.1; fill:none\" points=\"1602.98,1486.45 1602.98,123.472 \"/>\n",
       "<polyline clip-path=\"url(#clip212)\" style=\"stroke:#000000; stroke-linecap:round; stroke-linejoin:round; stroke-width:2; stroke-opacity:0.1; fill:none\" points=\"2291.04,1486.45 2291.04,123.472 \"/>\n",
       "<polyline clip-path=\"url(#clip212)\" style=\"stroke:#000000; stroke-linecap:round; stroke-linejoin:round; stroke-width:2; stroke-opacity:0.1; fill:none\" points=\"172.015,1476.21 2352.76,1476.21 \"/>\n",
       "<polyline clip-path=\"url(#clip212)\" style=\"stroke:#000000; stroke-linecap:round; stroke-linejoin:round; stroke-width:2; stroke-opacity:0.1; fill:none\" points=\"172.015,1179.68 2352.76,1179.68 \"/>\n",
       "<polyline clip-path=\"url(#clip212)\" style=\"stroke:#000000; stroke-linecap:round; stroke-linejoin:round; stroke-width:2; stroke-opacity:0.1; fill:none\" points=\"172.015,883.148 2352.76,883.148 \"/>\n",
       "<polyline clip-path=\"url(#clip212)\" style=\"stroke:#000000; stroke-linecap:round; stroke-linejoin:round; stroke-width:2; stroke-opacity:0.1; fill:none\" points=\"172.015,586.616 2352.76,586.616 \"/>\n",
       "<polyline clip-path=\"url(#clip212)\" style=\"stroke:#000000; stroke-linecap:round; stroke-linejoin:round; stroke-width:2; stroke-opacity:0.1; fill:none\" points=\"172.015,290.083 2352.76,290.083 \"/>\n",
       "<polyline clip-path=\"url(#clip210)\" style=\"stroke:#000000; stroke-linecap:round; stroke-linejoin:round; stroke-width:4; stroke-opacity:1; fill:none\" points=\"172.015,1486.45 2352.76,1486.45 \"/>\n",
       "<polyline clip-path=\"url(#clip210)\" style=\"stroke:#000000; stroke-linecap:round; stroke-linejoin:round; stroke-width:4; stroke-opacity:1; fill:none\" points=\"226.853,1486.45 226.853,1467.55 \"/>\n",
       "<polyline clip-path=\"url(#clip210)\" style=\"stroke:#000000; stroke-linecap:round; stroke-linejoin:round; stroke-width:4; stroke-opacity:1; fill:none\" points=\"914.914,1486.45 914.914,1467.55 \"/>\n",
       "<polyline clip-path=\"url(#clip210)\" style=\"stroke:#000000; stroke-linecap:round; stroke-linejoin:round; stroke-width:4; stroke-opacity:1; fill:none\" points=\"1602.98,1486.45 1602.98,1467.55 \"/>\n",
       "<polyline clip-path=\"url(#clip210)\" style=\"stroke:#000000; stroke-linecap:round; stroke-linejoin:round; stroke-width:4; stroke-opacity:1; fill:none\" points=\"2291.04,1486.45 2291.04,1467.55 \"/>\n",
       "<path clip-path=\"url(#clip210)\" d=\"M226.853 1517.37 Q223.242 1517.37 221.414 1520.93 Q219.608 1524.47 219.608 1531.6 Q219.608 1538.71 221.414 1542.27 Q223.242 1545.82 226.853 1545.82 Q230.488 1545.82 232.293 1542.27 Q234.122 1538.71 234.122 1531.6 Q234.122 1524.47 232.293 1520.93 Q230.488 1517.37 226.853 1517.37 M226.853 1513.66 Q232.663 1513.66 235.719 1518.27 Q238.798 1522.85 238.798 1531.6 Q238.798 1540.33 235.719 1544.94 Q232.663 1549.52 226.853 1549.52 Q221.043 1549.52 217.964 1544.94 Q214.909 1540.33 214.909 1531.6 Q214.909 1522.85 217.964 1518.27 Q221.043 1513.66 226.853 1513.66 Z\" fill=\"#000000\" fill-rule=\"nonzero\" fill-opacity=\"1\" /><path clip-path=\"url(#clip210)\" d=\"M874.521 1544.91 L882.16 1544.91 L882.16 1518.55 L873.85 1520.21 L873.85 1515.95 L882.114 1514.29 L886.79 1514.29 L886.79 1544.91 L894.428 1544.91 L894.428 1548.85 L874.521 1548.85 L874.521 1544.91 Z\" fill=\"#000000\" fill-rule=\"nonzero\" fill-opacity=\"1\" /><path clip-path=\"url(#clip210)\" d=\"M913.873 1517.37 Q910.262 1517.37 908.433 1520.93 Q906.627 1524.47 906.627 1531.6 Q906.627 1538.71 908.433 1542.27 Q910.262 1545.82 913.873 1545.82 Q917.507 1545.82 919.313 1542.27 Q921.141 1538.71 921.141 1531.6 Q921.141 1524.47 919.313 1520.93 Q917.507 1517.37 913.873 1517.37 M913.873 1513.66 Q919.683 1513.66 922.739 1518.27 Q925.817 1522.85 925.817 1531.6 Q925.817 1540.33 922.739 1544.94 Q919.683 1549.52 913.873 1549.52 Q908.063 1549.52 904.984 1544.94 Q901.928 1540.33 901.928 1531.6 Q901.928 1522.85 904.984 1518.27 Q908.063 1513.66 913.873 1513.66 Z\" fill=\"#000000\" fill-rule=\"nonzero\" fill-opacity=\"1\" /><path clip-path=\"url(#clip210)\" d=\"M944.035 1517.37 Q940.424 1517.37 938.595 1520.93 Q936.789 1524.47 936.789 1531.6 Q936.789 1538.71 938.595 1542.27 Q940.424 1545.82 944.035 1545.82 Q947.669 1545.82 949.474 1542.27 Q951.303 1538.71 951.303 1531.6 Q951.303 1524.47 949.474 1520.93 Q947.669 1517.37 944.035 1517.37 M944.035 1513.66 Q949.845 1513.66 952.9 1518.27 Q955.979 1522.85 955.979 1531.6 Q955.979 1540.33 952.9 1544.94 Q949.845 1549.52 944.035 1549.52 Q938.225 1549.52 935.146 1544.94 Q932.09 1540.33 932.09 1531.6 Q932.09 1522.85 935.146 1518.27 Q938.225 1513.66 944.035 1513.66 Z\" fill=\"#000000\" fill-rule=\"nonzero\" fill-opacity=\"1\" /><path clip-path=\"url(#clip210)\" d=\"M1566.67 1544.91 L1582.99 1544.91 L1582.99 1548.85 L1561.04 1548.85 L1561.04 1544.91 Q1563.71 1542.16 1568.29 1537.53 Q1572.89 1532.88 1574.08 1531.53 Q1576.32 1529.01 1577.2 1527.27 Q1578.1 1525.51 1578.1 1523.82 Q1578.1 1521.07 1576.16 1519.33 Q1574.24 1517.6 1571.14 1517.6 Q1568.94 1517.6 1566.48 1518.36 Q1564.05 1519.13 1561.27 1520.68 L1561.27 1515.95 Q1564.1 1514.82 1566.55 1514.24 Q1569.01 1513.66 1571.04 1513.66 Q1576.41 1513.66 1579.61 1516.35 Q1582.8 1519.03 1582.8 1523.52 Q1582.8 1525.65 1581.99 1527.57 Q1581.2 1529.47 1579.1 1532.07 Q1578.52 1532.74 1575.42 1535.95 Q1572.32 1539.15 1566.67 1544.91 Z\" fill=\"#000000\" fill-rule=\"nonzero\" fill-opacity=\"1\" /><path clip-path=\"url(#clip210)\" d=\"M1602.8 1517.37 Q1599.19 1517.37 1597.36 1520.93 Q1595.56 1524.47 1595.56 1531.6 Q1595.56 1538.71 1597.36 1542.27 Q1599.19 1545.82 1602.8 1545.82 Q1606.44 1545.82 1608.24 1542.27 Q1610.07 1538.71 1610.07 1531.6 Q1610.07 1524.47 1608.24 1520.93 Q1606.44 1517.37 1602.8 1517.37 M1602.8 1513.66 Q1608.61 1513.66 1611.67 1518.27 Q1614.75 1522.85 1614.75 1531.6 Q1614.75 1540.33 1611.67 1544.94 Q1608.61 1549.52 1602.8 1549.52 Q1596.99 1549.52 1593.91 1544.94 Q1590.86 1540.33 1590.86 1531.6 Q1590.86 1522.85 1593.91 1518.27 Q1596.99 1513.66 1602.8 1513.66 Z\" fill=\"#000000\" fill-rule=\"nonzero\" fill-opacity=\"1\" /><path clip-path=\"url(#clip210)\" d=\"M1632.96 1517.37 Q1629.35 1517.37 1627.52 1520.93 Q1625.72 1524.47 1625.72 1531.6 Q1625.72 1538.71 1627.52 1542.27 Q1629.35 1545.82 1632.96 1545.82 Q1636.6 1545.82 1638.4 1542.27 Q1640.23 1538.71 1640.23 1531.6 Q1640.23 1524.47 1638.4 1520.93 Q1636.6 1517.37 1632.96 1517.37 M1632.96 1513.66 Q1638.77 1513.66 1641.83 1518.27 Q1644.91 1522.85 1644.91 1531.6 Q1644.91 1540.33 1641.83 1544.94 Q1638.77 1549.52 1632.96 1549.52 Q1627.15 1549.52 1624.08 1544.94 Q1621.02 1540.33 1621.02 1531.6 Q1621.02 1522.85 1624.08 1518.27 Q1627.15 1513.66 1632.96 1513.66 Z\" fill=\"#000000\" fill-rule=\"nonzero\" fill-opacity=\"1\" /><path clip-path=\"url(#clip210)\" d=\"M2264.8 1530.21 Q2268.15 1530.93 2270.03 1533.2 Q2271.93 1535.47 2271.93 1538.8 Q2271.93 1543.92 2268.41 1546.72 Q2264.89 1549.52 2258.41 1549.52 Q2256.23 1549.52 2253.92 1549.08 Q2251.63 1548.66 2249.17 1547.81 L2249.17 1543.29 Q2251.12 1544.43 2253.43 1545.01 Q2255.75 1545.58 2258.27 1545.58 Q2262.67 1545.58 2264.96 1543.85 Q2267.28 1542.11 2267.28 1538.8 Q2267.28 1535.75 2265.12 1534.03 Q2262.99 1532.3 2259.17 1532.3 L2255.15 1532.3 L2255.15 1528.45 L2259.36 1528.45 Q2262.81 1528.45 2264.64 1527.09 Q2266.47 1525.7 2266.47 1523.11 Q2266.47 1520.45 2264.57 1519.03 Q2262.69 1517.6 2259.17 1517.6 Q2257.25 1517.6 2255.05 1518.01 Q2252.85 1518.43 2250.22 1519.31 L2250.22 1515.14 Q2252.88 1514.4 2255.19 1514.03 Q2257.53 1513.66 2259.59 1513.66 Q2264.91 1513.66 2268.02 1516.09 Q2271.12 1518.5 2271.12 1522.62 Q2271.12 1525.49 2269.47 1527.48 Q2267.83 1529.45 2264.8 1530.21 Z\" fill=\"#000000\" fill-rule=\"nonzero\" fill-opacity=\"1\" /><path clip-path=\"url(#clip210)\" d=\"M2290.79 1517.37 Q2287.18 1517.37 2285.35 1520.93 Q2283.55 1524.47 2283.55 1531.6 Q2283.55 1538.71 2285.35 1542.27 Q2287.18 1545.82 2290.79 1545.82 Q2294.43 1545.82 2296.23 1542.27 Q2298.06 1538.71 2298.06 1531.6 Q2298.06 1524.47 2296.23 1520.93 Q2294.43 1517.37 2290.79 1517.37 M2290.79 1513.66 Q2296.6 1513.66 2299.66 1518.27 Q2302.74 1522.85 2302.74 1531.6 Q2302.74 1540.33 2299.66 1544.94 Q2296.6 1549.52 2290.79 1549.52 Q2284.98 1549.52 2281.9 1544.94 Q2278.85 1540.33 2278.85 1531.6 Q2278.85 1522.85 2281.9 1518.27 Q2284.98 1513.66 2290.79 1513.66 Z\" fill=\"#000000\" fill-rule=\"nonzero\" fill-opacity=\"1\" /><path clip-path=\"url(#clip210)\" d=\"M2320.96 1517.37 Q2317.34 1517.37 2315.52 1520.93 Q2313.71 1524.47 2313.71 1531.6 Q2313.71 1538.71 2315.52 1542.27 Q2317.34 1545.82 2320.96 1545.82 Q2324.59 1545.82 2326.4 1542.27 Q2328.22 1538.71 2328.22 1531.6 Q2328.22 1524.47 2326.4 1520.93 Q2324.59 1517.37 2320.96 1517.37 M2320.96 1513.66 Q2326.77 1513.66 2329.82 1518.27 Q2332.9 1522.85 2332.9 1531.6 Q2332.9 1540.33 2329.82 1544.94 Q2326.77 1549.52 2320.96 1549.52 Q2315.15 1549.52 2312.07 1544.94 Q2309.01 1540.33 2309.01 1531.6 Q2309.01 1522.85 2312.07 1518.27 Q2315.15 1513.66 2320.96 1513.66 Z\" fill=\"#000000\" fill-rule=\"nonzero\" fill-opacity=\"1\" /><polyline clip-path=\"url(#clip210)\" style=\"stroke:#000000; stroke-linecap:round; stroke-linejoin:round; stroke-width:4; stroke-opacity:1; fill:none\" points=\"172.015,1486.45 172.015,123.472 \"/>\n",
       "<polyline clip-path=\"url(#clip210)\" style=\"stroke:#000000; stroke-linecap:round; stroke-linejoin:round; stroke-width:4; stroke-opacity:1; fill:none\" points=\"172.015,1476.21 190.912,1476.21 \"/>\n",
       "<polyline clip-path=\"url(#clip210)\" style=\"stroke:#000000; stroke-linecap:round; stroke-linejoin:round; stroke-width:4; stroke-opacity:1; fill:none\" points=\"172.015,1179.68 190.912,1179.68 \"/>\n",
       "<polyline clip-path=\"url(#clip210)\" style=\"stroke:#000000; stroke-linecap:round; stroke-linejoin:round; stroke-width:4; stroke-opacity:1; fill:none\" points=\"172.015,883.148 190.912,883.148 \"/>\n",
       "<polyline clip-path=\"url(#clip210)\" style=\"stroke:#000000; stroke-linecap:round; stroke-linejoin:round; stroke-width:4; stroke-opacity:1; fill:none\" points=\"172.015,586.616 190.912,586.616 \"/>\n",
       "<polyline clip-path=\"url(#clip210)\" style=\"stroke:#000000; stroke-linecap:round; stroke-linejoin:round; stroke-width:4; stroke-opacity:1; fill:none\" points=\"172.015,290.083 190.912,290.083 \"/>\n",
       "<path clip-path=\"url(#clip210)\" d=\"M124.07 1462.01 Q120.459 1462.01 118.631 1465.58 Q116.825 1469.12 116.825 1476.25 Q116.825 1483.35 118.631 1486.92 Q120.459 1490.46 124.07 1490.46 Q127.705 1490.46 129.51 1486.92 Q131.339 1483.35 131.339 1476.25 Q131.339 1469.12 129.51 1465.58 Q127.705 1462.01 124.07 1462.01 M124.07 1458.31 Q129.881 1458.31 132.936 1462.91 Q136.015 1467.5 136.015 1476.25 Q136.015 1484.97 132.936 1489.58 Q129.881 1494.16 124.07 1494.16 Q118.26 1494.16 115.182 1489.58 Q112.126 1484.97 112.126 1476.25 Q112.126 1467.5 115.182 1462.91 Q118.26 1458.31 124.07 1458.31 Z\" fill=\"#000000\" fill-rule=\"nonzero\" fill-opacity=\"1\" /><path clip-path=\"url(#clip210)\" d=\"M54.5569 1193.02 L62.1958 1193.02 L62.1958 1166.66 L53.8856 1168.33 L53.8856 1164.07 L62.1495 1162.4 L66.8254 1162.4 L66.8254 1193.02 L74.4642 1193.02 L74.4642 1196.96 L54.5569 1196.96 L54.5569 1193.02 Z\" fill=\"#000000\" fill-rule=\"nonzero\" fill-opacity=\"1\" /><path clip-path=\"url(#clip210)\" d=\"M93.9086 1165.48 Q90.2975 1165.48 88.4688 1169.04 Q86.6632 1172.58 86.6632 1179.71 Q86.6632 1186.82 88.4688 1190.39 Q90.2975 1193.93 93.9086 1193.93 Q97.5428 1193.93 99.3483 1190.39 Q101.177 1186.82 101.177 1179.71 Q101.177 1172.58 99.3483 1169.04 Q97.5428 1165.48 93.9086 1165.48 M93.9086 1161.77 Q99.7187 1161.77 102.774 1166.38 Q105.853 1170.96 105.853 1179.71 Q105.853 1188.44 102.774 1193.05 Q99.7187 1197.63 93.9086 1197.63 Q88.0984 1197.63 85.0197 1193.05 Q81.9642 1188.44 81.9642 1179.71 Q81.9642 1170.96 85.0197 1166.38 Q88.0984 1161.77 93.9086 1161.77 Z\" fill=\"#000000\" fill-rule=\"nonzero\" fill-opacity=\"1\" /><path clip-path=\"url(#clip210)\" d=\"M124.07 1165.48 Q120.459 1165.48 118.631 1169.04 Q116.825 1172.58 116.825 1179.71 Q116.825 1186.82 118.631 1190.39 Q120.459 1193.93 124.07 1193.93 Q127.705 1193.93 129.51 1190.39 Q131.339 1186.82 131.339 1179.71 Q131.339 1172.58 129.51 1169.04 Q127.705 1165.48 124.07 1165.48 M124.07 1161.77 Q129.881 1161.77 132.936 1166.38 Q136.015 1170.96 136.015 1179.71 Q136.015 1188.44 132.936 1193.05 Q129.881 1197.63 124.07 1197.63 Q118.26 1197.63 115.182 1193.05 Q112.126 1188.44 112.126 1179.71 Q112.126 1170.96 115.182 1166.38 Q118.26 1161.77 124.07 1161.77 Z\" fill=\"#000000\" fill-rule=\"nonzero\" fill-opacity=\"1\" /><path clip-path=\"url(#clip210)\" d=\"M57.7745 896.493 L74.0939 896.493 L74.0939 900.428 L52.1495 900.428 L52.1495 896.493 Q54.8115 893.738 59.3949 889.108 Q64.0013 884.456 65.1819 883.113 Q67.4272 880.59 68.3068 878.854 Q69.2096 877.094 69.2096 875.405 Q69.2096 872.65 67.2652 870.914 Q65.3439 869.178 62.2421 869.178 Q60.043 869.178 57.5893 869.942 Q55.1588 870.706 52.381 872.257 L52.381 867.534 Q55.2051 866.4 57.6588 865.821 Q60.1124 865.243 62.1495 865.243 Q67.5198 865.243 70.7142 867.928 Q73.9087 870.613 73.9087 875.104 Q73.9087 877.233 73.0985 879.155 Q72.3115 881.053 70.205 883.645 Q69.6263 884.317 66.5245 887.534 Q63.4226 890.729 57.7745 896.493 Z\" fill=\"#000000\" fill-rule=\"nonzero\" fill-opacity=\"1\" /><path clip-path=\"url(#clip210)\" d=\"M93.9086 868.946 Q90.2975 868.946 88.4688 872.511 Q86.6632 876.053 86.6632 883.182 Q86.6632 890.289 88.4688 893.854 Q90.2975 897.395 93.9086 897.395 Q97.5428 897.395 99.3483 893.854 Q101.177 890.289 101.177 883.182 Q101.177 876.053 99.3483 872.511 Q97.5428 868.946 93.9086 868.946 M93.9086 865.243 Q99.7187 865.243 102.774 869.849 Q105.853 874.432 105.853 883.182 Q105.853 891.909 102.774 896.516 Q99.7187 901.099 93.9086 901.099 Q88.0984 901.099 85.0197 896.516 Q81.9642 891.909 81.9642 883.182 Q81.9642 874.432 85.0197 869.849 Q88.0984 865.243 93.9086 865.243 Z\" fill=\"#000000\" fill-rule=\"nonzero\" fill-opacity=\"1\" /><path clip-path=\"url(#clip210)\" d=\"M124.07 868.946 Q120.459 868.946 118.631 872.511 Q116.825 876.053 116.825 883.182 Q116.825 890.289 118.631 893.854 Q120.459 897.395 124.07 897.395 Q127.705 897.395 129.51 893.854 Q131.339 890.289 131.339 883.182 Q131.339 876.053 129.51 872.511 Q127.705 868.946 124.07 868.946 M124.07 865.243 Q129.881 865.243 132.936 869.849 Q136.015 874.432 136.015 883.182 Q136.015 891.909 132.936 896.516 Q129.881 901.099 124.07 901.099 Q118.26 901.099 115.182 896.516 Q112.126 891.909 112.126 883.182 Q112.126 874.432 115.182 869.849 Q118.26 865.243 124.07 865.243 Z\" fill=\"#000000\" fill-rule=\"nonzero\" fill-opacity=\"1\" /><path clip-path=\"url(#clip210)\" d=\"M67.9133 585.261 Q71.2698 585.979 73.1448 588.247 Q75.0429 590.516 75.0429 593.849 Q75.0429 598.965 71.5244 601.766 Q68.0059 604.567 61.5245 604.567 Q59.3486 604.567 57.0338 604.127 Q54.7421 603.71 52.2884 602.854 L52.2884 598.34 Q54.2328 599.474 56.5477 600.053 Q58.8625 600.632 61.3856 600.632 Q65.7837 600.632 68.0754 598.896 Q70.3902 597.159 70.3902 593.849 Q70.3902 590.794 68.2374 589.081 Q66.1078 587.345 62.2884 587.345 L58.2606 587.345 L58.2606 583.502 L62.4735 583.502 Q65.9226 583.502 67.7513 582.136 Q69.58 580.748 69.58 578.155 Q69.58 575.493 67.6819 574.081 Q65.8069 572.646 62.2884 572.646 Q60.3671 572.646 58.168 573.062 Q55.969 573.479 53.3301 574.359 L53.3301 570.192 Q55.9921 569.451 58.3069 569.081 Q60.6449 568.711 62.705 568.711 Q68.0291 568.711 71.1309 571.141 Q74.2327 573.548 74.2327 577.669 Q74.2327 580.539 72.5892 582.53 Q70.9457 584.498 67.9133 585.261 Z\" fill=\"#000000\" fill-rule=\"nonzero\" fill-opacity=\"1\" /><path clip-path=\"url(#clip210)\" d=\"M93.9086 572.414 Q90.2975 572.414 88.4688 575.979 Q86.6632 579.521 86.6632 586.65 Q86.6632 593.757 88.4688 597.322 Q90.2975 600.863 93.9086 600.863 Q97.5428 600.863 99.3483 597.322 Q101.177 593.757 101.177 586.65 Q101.177 579.521 99.3483 575.979 Q97.5428 572.414 93.9086 572.414 M93.9086 568.711 Q99.7187 568.711 102.774 573.317 Q105.853 577.9 105.853 586.65 Q105.853 595.377 102.774 599.984 Q99.7187 604.567 93.9086 604.567 Q88.0984 604.567 85.0197 599.984 Q81.9642 595.377 81.9642 586.65 Q81.9642 577.9 85.0197 573.317 Q88.0984 568.711 93.9086 568.711 Z\" fill=\"#000000\" fill-rule=\"nonzero\" fill-opacity=\"1\" /><path clip-path=\"url(#clip210)\" d=\"M124.07 572.414 Q120.459 572.414 118.631 575.979 Q116.825 579.521 116.825 586.65 Q116.825 593.757 118.631 597.322 Q120.459 600.863 124.07 600.863 Q127.705 600.863 129.51 597.322 Q131.339 593.757 131.339 586.65 Q131.339 579.521 129.51 575.979 Q127.705 572.414 124.07 572.414 M124.07 568.711 Q129.881 568.711 132.936 573.317 Q136.015 577.9 136.015 586.65 Q136.015 595.377 132.936 599.984 Q129.881 604.567 124.07 604.567 Q118.26 604.567 115.182 599.984 Q112.126 595.377 112.126 586.65 Q112.126 577.9 115.182 573.317 Q118.26 568.711 124.07 568.711 Z\" fill=\"#000000\" fill-rule=\"nonzero\" fill-opacity=\"1\" /><path clip-path=\"url(#clip210)\" d=\"M66.5939 276.877 L54.7884 295.326 L66.5939 295.326 L66.5939 276.877 M65.367 272.803 L71.2466 272.803 L71.2466 295.326 L76.1772 295.326 L76.1772 299.215 L71.2466 299.215 L71.2466 307.363 L66.5939 307.363 L66.5939 299.215 L50.9921 299.215 L50.9921 294.701 L65.367 272.803 Z\" fill=\"#000000\" fill-rule=\"nonzero\" fill-opacity=\"1\" /><path clip-path=\"url(#clip210)\" d=\"M93.9086 275.882 Q90.2975 275.882 88.4688 279.447 Q86.6632 282.989 86.6632 290.118 Q86.6632 297.225 88.4688 300.789 Q90.2975 304.331 93.9086 304.331 Q97.5428 304.331 99.3483 300.789 Q101.177 297.225 101.177 290.118 Q101.177 282.989 99.3483 279.447 Q97.5428 275.882 93.9086 275.882 M93.9086 272.178 Q99.7187 272.178 102.774 276.785 Q105.853 281.368 105.853 290.118 Q105.853 298.845 102.774 303.451 Q99.7187 308.035 93.9086 308.035 Q88.0984 308.035 85.0197 303.451 Q81.9642 298.845 81.9642 290.118 Q81.9642 281.368 85.0197 276.785 Q88.0984 272.178 93.9086 272.178 Z\" fill=\"#000000\" fill-rule=\"nonzero\" fill-opacity=\"1\" /><path clip-path=\"url(#clip210)\" d=\"M124.07 275.882 Q120.459 275.882 118.631 279.447 Q116.825 282.989 116.825 290.118 Q116.825 297.225 118.631 300.789 Q120.459 304.331 124.07 304.331 Q127.705 304.331 129.51 300.789 Q131.339 297.225 131.339 290.118 Q131.339 282.989 129.51 279.447 Q127.705 275.882 124.07 275.882 M124.07 272.178 Q129.881 272.178 132.936 276.785 Q136.015 281.368 136.015 290.118 Q136.015 298.845 132.936 303.451 Q129.881 308.035 124.07 308.035 Q118.26 308.035 115.182 303.451 Q112.126 298.845 112.126 290.118 Q112.126 281.368 115.182 276.785 Q118.26 272.178 124.07 272.178 Z\" fill=\"#000000\" fill-rule=\"nonzero\" fill-opacity=\"1\" /><path clip-path=\"url(#clip210)\" d=\"M1141.06 9.54393 L1148.51 9.54393 L1148.51 72.576 L1141.06 72.576 L1141.06 9.54393 Z\" fill=\"#000000\" fill-rule=\"nonzero\" fill-opacity=\"1\" /><path clip-path=\"url(#clip210)\" d=\"M1181.69 32.4315 Q1175.7 32.4315 1172.21 37.1306 Q1168.73 41.7891 1168.73 49.9314 Q1168.73 58.0738 1172.17 62.7728 Q1175.66 67.4314 1181.69 67.4314 Q1187.65 67.4314 1191.13 62.7323 Q1194.61 58.0333 1194.61 49.9314 Q1194.61 41.8701 1191.13 37.1711 Q1187.65 32.4315 1181.69 32.4315 M1181.69 26.1121 Q1191.41 26.1121 1196.96 32.4315 Q1202.51 38.7509 1202.51 49.9314 Q1202.51 61.0714 1196.96 67.4314 Q1191.41 73.7508 1181.69 73.7508 Q1171.93 73.7508 1166.38 67.4314 Q1160.87 61.0714 1160.87 49.9314 Q1160.87 38.7509 1166.38 32.4315 Q1171.93 26.1121 1181.69 26.1121 Z\" fill=\"#000000\" fill-rule=\"nonzero\" fill-opacity=\"1\" /><path clip-path=\"url(#clip210)\" d=\"M1243.79 28.5427 L1243.79 35.5912 Q1240.63 33.9709 1237.23 33.1607 Q1233.83 32.3505 1230.18 32.3505 Q1224.63 32.3505 1221.84 34.0519 Q1219.08 35.7533 1219.08 39.156 Q1219.08 41.7486 1221.07 43.2475 Q1223.05 44.7058 1229.05 46.0426 L1231.6 46.6097 Q1239.54 48.3111 1242.86 51.4303 Q1246.22 54.509 1246.22 60.0587 Q1246.22 66.3781 1241.2 70.0644 Q1236.22 73.7508 1227.47 73.7508 Q1223.82 73.7508 1219.85 73.0216 Q1215.92 72.3329 1211.55 70.9151 L1211.55 63.2184 Q1215.68 65.3654 1219.69 66.4591 Q1223.7 67.5124 1227.63 67.5124 Q1232.89 67.5124 1235.73 65.73 Q1238.57 63.9071 1238.57 60.6258 Q1238.57 57.5877 1236.5 55.9673 Q1234.47 54.3469 1227.55 52.8481 L1224.96 52.2405 Q1218.03 50.7821 1214.95 47.7845 Q1211.87 44.7463 1211.87 39.4801 Q1211.87 33.0797 1216.41 29.5959 Q1220.94 26.1121 1229.29 26.1121 Q1233.42 26.1121 1237.07 26.7198 Q1240.71 27.3274 1243.79 28.5427 Z\" fill=\"#000000\" fill-rule=\"nonzero\" fill-opacity=\"1\" /><path clip-path=\"url(#clip210)\" d=\"M1287.01 28.5427 L1287.01 35.5912 Q1283.86 33.9709 1280.45 33.1607 Q1277.05 32.3505 1273.4 32.3505 Q1267.85 32.3505 1265.06 34.0519 Q1262.3 35.7533 1262.3 39.156 Q1262.3 41.7486 1264.29 43.2475 Q1266.27 44.7058 1272.27 46.0426 L1274.82 46.6097 Q1282.76 48.3111 1286.08 51.4303 Q1289.45 54.509 1289.45 60.0587 Q1289.45 66.3781 1284.42 70.0644 Q1279.44 73.7508 1270.69 73.7508 Q1267.04 73.7508 1263.07 73.0216 Q1259.14 72.3329 1254.77 70.9151 L1254.77 63.2184 Q1258.9 65.3654 1262.91 66.4591 Q1266.92 67.5124 1270.85 67.5124 Q1276.12 67.5124 1278.95 65.73 Q1281.79 63.9071 1281.79 60.6258 Q1281.79 57.5877 1279.72 55.9673 Q1277.7 54.3469 1270.77 52.8481 L1268.18 52.2405 Q1261.25 50.7821 1258.17 47.7845 Q1255.09 44.7463 1255.09 39.4801 Q1255.09 33.0797 1259.63 29.5959 Q1264.17 26.1121 1272.51 26.1121 Q1276.64 26.1121 1280.29 26.7198 Q1283.94 27.3274 1287.01 28.5427 Z\" fill=\"#000000\" fill-rule=\"nonzero\" fill-opacity=\"1\" /><path clip-path=\"url(#clip210)\" d=\"M1340.12 48.0275 L1340.12 51.6733 L1305.85 51.6733 Q1306.34 59.3701 1310.47 63.421 Q1314.64 67.4314 1322.06 67.4314 Q1326.35 67.4314 1330.36 66.3781 Q1334.41 65.3249 1338.38 63.2184 L1338.38 70.267 Q1334.37 71.9684 1330.16 72.8596 Q1325.94 73.7508 1321.61 73.7508 Q1310.75 73.7508 1304.39 67.4314 Q1298.07 61.1119 1298.07 50.3365 Q1298.07 39.1965 1304.07 32.6746 Q1310.11 26.1121 1320.31 26.1121 Q1329.47 26.1121 1334.78 32.0264 Q1340.12 37.9003 1340.12 48.0275 M1332.67 45.84 Q1332.59 39.7232 1329.23 36.0774 Q1325.9 32.4315 1320.39 32.4315 Q1314.16 32.4315 1310.39 35.9558 Q1306.66 39.4801 1306.09 45.8805 L1332.67 45.84 Z\" fill=\"#000000\" fill-rule=\"nonzero\" fill-opacity=\"1\" /><path clip-path=\"url(#clip210)\" d=\"M1381.28 28.5427 L1381.28 35.5912 Q1378.12 33.9709 1374.72 33.1607 Q1371.31 32.3505 1367.67 32.3505 Q1362.12 32.3505 1359.32 34.0519 Q1356.57 35.7533 1356.57 39.156 Q1356.57 41.7486 1358.55 43.2475 Q1360.54 44.7058 1366.53 46.0426 L1369.09 46.6097 Q1377.03 48.3111 1380.35 51.4303 Q1383.71 54.509 1383.71 60.0587 Q1383.71 66.3781 1378.69 70.0644 Q1373.7 73.7508 1364.95 73.7508 Q1361.31 73.7508 1357.34 73.0216 Q1353.41 72.3329 1349.03 70.9151 L1349.03 63.2184 Q1353.17 65.3654 1357.18 66.4591 Q1361.19 67.5124 1365.12 67.5124 Q1370.38 67.5124 1373.22 65.73 Q1376.05 63.9071 1376.05 60.6258 Q1376.05 57.5877 1373.99 55.9673 Q1371.96 54.3469 1365.04 52.8481 L1362.44 52.2405 Q1355.52 50.7821 1352.44 47.7845 Q1349.36 44.7463 1349.36 39.4801 Q1349.36 33.0797 1353.9 29.5959 Q1358.43 26.1121 1366.78 26.1121 Q1370.91 26.1121 1374.55 26.7198 Q1378.2 27.3274 1381.28 28.5427 Z\" fill=\"#000000\" fill-rule=\"nonzero\" fill-opacity=\"1\" /><polyline clip-path=\"url(#clip212)\" style=\"stroke:#009af9; stroke-linecap:round; stroke-linejoin:round; stroke-width:16; stroke-opacity:1; fill:none\" points=\"233.734,1323.98 240.615,162.047 247.495,1326.27 254.376,1264.08 261.256,1100.55 268.137,1280.72 275.018,1407.32 281.898,1403.16 288.779,1339.85 295.659,1347.6 302.54,1364.74 309.421,1421.73 316.301,1434.3 323.182,1386.74 330.062,1381.79 336.943,1382.57 343.824,1399.45 350.704,1419.89 357.585,1413.53 364.466,1405.32 371.346,1406.22 378.227,1392.57 385.107,1423.03 391.988,1423.45 398.869,1426.44 405.749,1413.78 412.63,1409.83 419.51,1394.24 426.391,1415.48 433.272,1425.15 440.152,1421.97 447.033,1434.11 453.913,1435.85 460.794,1410.89 467.675,1424.87 474.555,1400.6 481.436,1426.1 488.317,1413.11 495.197,1419.27 502.078,1429.97 508.958,1416.47 515.839,1411.85 522.72,1423.77 529.6,1427.02 536.481,1430.19 543.361,1433.07 550.242,1418.88 557.123,1432.99 564.003,1430.41 570.884,1425.97 577.764,1431.13 584.645,1438.87 591.526,1436.35 598.406,1417.52 605.287,1423.7 612.168,1417.04 619.048,1432.02 625.929,1422.01 632.809,1424.24 639.69,1434.62 646.571,1419.75 653.451,1428.74 660.332,1421.3 667.212,1439.54 674.093,1436.29 680.974,1426.57 687.854,1424.01 694.735,1433.93 701.616,1408.66 708.496,1429.26 715.377,1435.2 722.257,1432.48 729.138,1397.04 736.019,1428.85 742.899,1436.25 749.78,1422.46 756.66,1432.61 763.541,1421.94 770.422,1426.77 777.302,1438.76 784.183,1437.19 791.063,1435.57 797.944,1436.01 804.825,1429.44 811.705,1429.82 818.586,1428.06 825.467,1435.84 832.347,1426.36 839.228,1420.92 846.108,1432.04 852.989,1436.27 859.87,1424.48 866.75,1420.98 873.631,1433.68 880.511,1437.33 887.392,1433.05 894.273,1438.37 901.153,1410.25 908.034,1417.3 914.914,1430.24 921.795,1434.99 928.676,1436.53 935.556,1430.23 942.437,1428.1 949.318,1429.51 956.198,1430.05 963.079,1424.24 969.959,1434.05 976.84,1440.05 983.721,1433.76 990.601,1429.46 997.482,1407.92 1004.36,1411.3 1011.24,1436.29 1018.12,1416.14 1025,1429.51 1031.88,1426.03 1038.77,1433.08 1045.65,1427.74 1052.53,1422.71 1059.41,1431.95 1066.29,1415.14 1073.17,1420.65 1080.05,1420.52 1086.93,1437.98 1093.81,1427.21 1100.69,1428.98 1107.57,1430.71 1114.45,1439.42 1121.33,1416.54 1128.21,1417.41 1135.09,1439.57 1141.97,1428.32 1148.86,1414.61 1155.74,1422.33 1162.62,1437.89 1169.5,1434.81 1176.38,1426.9 1183.26,1418.51 1190.14,1426.88 1197.02,1426.97 1203.9,1423.17 1210.78,1426.91 1217.66,1414.11 1224.54,1421.98 1231.42,1416.51 1238.3,1431.33 1245.18,1425.89 1252.06,1420.75 1258.95,1417.65 1265.83,1435.12 1272.71,1419.83 1279.59,1427.88 1286.47,1432.11 1293.35,1420.03 1300.23,1430.16 1307.11,1425.6 1313.99,1421.73 1320.87,1440.71 1327.75,1432.9 1334.63,1423.36 1341.51,1404.39 1348.39,1425.6 1355.27,1424.67 1362.15,1425.65 1369.03,1422.08 1375.92,1436.68 1382.8,1433.51 1389.68,1403.82 1396.56,1435.76 1403.44,1415.37 1410.32,1414.15 1417.2,1428.11 1424.08,1428.81 1430.96,1430.62 1437.84,1445.6 1444.72,1422.47 1451.6,1421.92 1458.48,1431.53 1465.36,1417.27 1472.24,1417.2 1479.12,1418.87 1486.01,1432.86 1492.89,1426.18 1499.77,1436.51 1506.65,1443.49 1513.53,1416.26 1520.41,1424.57 1527.29,1430.87 1534.17,1427.33 1541.05,1416.28 1547.93,1424.05 1554.81,1406.43 1561.69,1425.98 1568.57,1428.88 1575.45,1434.02 1582.33,1426.86 1589.21,1431.57 1596.1,1431.36 1602.98,1417.34 1609.86,1427.11 1616.74,1438.24 1623.62,1406.3 1630.5,1427.17 1637.38,1425.19 1644.26,1427.03 1651.14,1428.45 1658.02,1411.28 1664.9,1427.91 1671.78,1422.04 1678.66,1436.7 1685.54,1431.96 1692.42,1419.83 1699.3,1419.79 1706.18,1410.04 1713.07,1416.76 1719.95,1407.76 1726.83,1425.95 1733.71,1428.5 1740.59,1435.37 1747.47,1408.4 1754.35,1433.89 1761.23,1417.04 1768.11,1431.56 1774.99,1411.64 1781.87,1415.57 1788.75,1419.54 1795.63,1439.31 1802.51,1433.9 1809.39,1427.49 1816.27,1422.92 1823.16,1421.67 1830.04,1404.13 1836.92,1429.41 1843.8,1433.13 1850.68,1438.18 1857.56,1433.31 1864.44,1425.17 1871.32,1420.26 1878.2,1432.93 1885.08,1411.28 1891.96,1434.57 1898.84,1429.98 1905.72,1418.75 1912.6,1426.3 1919.48,1411.81 1926.36,1436.39 1933.25,1436.5 1940.13,1447.87 1947.01,1433.1 1953.89,1417.84 1960.77,1406.66 1967.65,1441.88 1974.53,1424.19 1981.41,1436.06 1988.29,1436.77 1995.17,1439.34 2002.05,1428.45 2008.93,1429.32 2015.81,1427.53 2022.69,1417.98 2029.57,1419.37 2036.45,1441.04 2043.33,1431.91 2050.22,1424.5 2057.1,1442.94 2063.98,1442.03 2070.86,1421.12 2077.74,1437.35 2084.62,1434.92 2091.5,1439.69 2098.38,1402.21 2105.26,1426.47 2112.14,1424.73 2119.02,1419.33 2125.9,1439.73 2132.78,1434.14 2139.66,1433.02 2146.54,1436.34 2153.42,1437.68 2160.31,1426.7 2167.19,1438.97 2174.07,1426.31 2180.95,1409.05 2187.83,1422.19 2194.71,1427.31 2201.59,1416.3 2208.47,1415.35 2215.35,1412.19 2222.23,1431.02 2229.11,1432.45 2235.99,1423.97 2242.87,1433.78 2249.75,1423.67 2256.63,1426.11 2263.51,1427.89 2270.39,1423.39 2277.28,1436.69 2284.16,1420 2291.04,1428.21 \"/>\n",
       "</svg>\n"
      ],
      "text/html": [
       "<img src=\"data:image/png;base64,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\" />"
      ]
     },
     "metadata": {},
     "output_type": "display_data"
    }
   ],
   "source": [
    "p = plot(loss_hist, title=\"losses\", linewidth=4, legend=false)\n",
    "savefig(p,\"figures/losses.png\")\n",
    "display(p)"
   ]
  },
  {
   "cell_type": "code",
   "execution_count": null,
   "id": "922fdf5a",
   "metadata": {},
   "outputs": [],
   "source": []
  },
  {
   "cell_type": "code",
   "execution_count": null,
   "id": "9a6e9a33",
   "metadata": {},
   "outputs": [],
   "source": []
  },
  {
   "cell_type": "code",
   "execution_count": null,
   "id": "d62cd74d",
   "metadata": {},
   "outputs": [],
   "source": []
  }
 ],
 "metadata": {
  "kernelspec": {
   "display_name": "Julia 1.10.9",
   "language": "julia",
   "name": "julia-1.10"
  },
  "language_info": {
   "file_extension": ".jl",
   "mimetype": "application/julia",
   "name": "julia",
   "version": "1.10.9"
  }
 },
 "nbformat": 4,
 "nbformat_minor": 5
}
