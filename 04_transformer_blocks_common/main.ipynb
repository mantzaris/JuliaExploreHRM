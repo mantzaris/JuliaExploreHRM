{
 "cells": [
  {
   "cell_type": "code",
   "execution_count": 27,
   "id": "7bb1d18a",
   "metadata": {},
   "outputs": [
    {
     "name": "stderr",
     "output_type": "stream",
     "text": [
      "\u001b[32m\u001b[1m  Activating\u001b[22m\u001b[39m project at `~/Documents/repos/JuliaExploreHRM`\n"
     ]
    }
   ],
   "source": [
    "using Pkg\n",
    "Pkg.activate(\"..\")  #one level up, where Project.toml lives\n",
    "Pkg.instantiate()   #download/install anything missing\n",
    "# Pkg.status();"
   ]
  },
  {
   "cell_type": "code",
   "execution_count": 35,
   "id": "9e4a070a",
   "metadata": {},
   "outputs": [
    {
     "name": "stderr",
     "output_type": "stream",
     "text": [
      "WARNING: replacing module HRMCommon.\n",
      "WARNING: using HRMCommon.Tokenwise in module Main conflicts with an existing identifier.\n",
      "WARNING: using HRMCommon.TransformerBlock in module Main conflicts with an existing identifier.\n"
     ]
    },
    {
     "data": {
      "text/plain": [
       "TaskLocalRNG()"
      ]
     },
     "metadata": {},
     "output_type": "display_data"
    }
   ],
   "source": [
    "include(joinpath(@__DIR__, \"..\", \"hrm_common.jl\"))\n",
    "using .HRMCommon\n",
    "using Statistics, Random, Test\n",
    "using LinearAlgebra: norm\n",
    "rng = Random.default_rng()\n",
    "\n"
   ]
  },
  {
   "cell_type": "code",
   "execution_count": 36,
   "id": "8a1ec666",
   "metadata": {},
   "outputs": [],
   "source": []
  },
  {
   "cell_type": "code",
   "execution_count": 37,
   "id": "10ca6ec4",
   "metadata": {},
   "outputs": [],
   "source": [
    "using Random, Lux\n",
    "using .HRMCommon\n",
    "\n",
    "rng = MersenneTwister(0)\n",
    "d, L, B = 8, 4, 2\n",
    "X = randn(Float32, d, L, B)\n",
    "\n",
    "blk = HRMCommon.TransformerBlock(d; nheads=2, ff_mult=2, pos_kind=:sinusoidal)\n",
    "ps, st = Lux.setup(rng, blk)\n",
    "Y, st2 = Lux.apply(blk, X, ps, st)\n",
    "@assert size(Y) == (d, L, B)\n"
   ]
  },
  {
   "cell_type": "code",
   "execution_count": null,
   "id": "3d3ef829",
   "metadata": {},
   "outputs": [
    {
     "name": "stdout",
     "output_type": "stream",
     "text": [
      "\u001b[0m\u001b[1mTest Summary:                         | \u001b[22m\u001b[32m\u001b[1mPass  \u001b[22m\u001b[39m\u001b[36m\u001b[1mTotal  \u001b[22m\u001b[39m\u001b[0m\u001b[1mTime\u001b[22m\n",
      "Tokenwise wrapper = reference reshape | \u001b[32m   2  \u001b[39m\u001b[36m    2  \u001b[39m\u001b[0m0.0s\n",
      "\u001b[0m\u001b[1mTest Summary:                                                           | \u001b[22m"
     ]
    }
   ],
   "source": [
    "using Test\n",
    "using Random, Lux\n",
    "\n",
    "\n",
    "function _zero_attn_and_ff!(ps)\n",
    "    ps.mha.q_proj.weight .= 0\n",
    "    ps.mha.k_proj.weight .= 0\n",
    "    ps.mha.v_proj.weight .= 0\n",
    "    ps.mha.out_proj.weight .= 0\n",
    "    ps.ff.layer.layer_1.weight .= 0\n",
    "    ps.ff.layer.layer_1.bias   .= 0\n",
    "    ps.ff.layer.layer_2.weight .= 0\n",
    "    ps.ff.layer.layer_2.bias   .= 0\n",
    "    return ps\n",
    "end\n",
    "\n",
    "@testset \"Tokenwise wrapper = reference reshape\" begin\n",
    "    rng = MersenneTwister(1)\n",
    "    d, L, B = 8, 7, 3\n",
    "    X = randn(Float32, d, L, B)\n",
    "\n",
    "    tw = HRMCommon.Tokenwise(Lux.LayerNorm(d))\n",
    "    ps_tw, st_tw = Lux.setup(rng, tw)\n",
    "\n",
    "    # tokenwise path\n",
    "    Y_tok, _ = Lux.apply(tw, X, ps_tw, st_tw)\n",
    "\n",
    "    # reference path (manual reshape)\n",
    "    ps_ln, st_ln = Lux.setup(rng, Lux.LayerNorm(d))\n",
    "    X2 = reshape(X, d, L*B)\n",
    "    Y2, _ = Lux.apply(Lux.LayerNorm(d), X2, ps_ln, st_ln)\n",
    "    Y_ref = reshape(Y2, d, L, B)\n",
    "\n",
    "    @test size(Y_tok) == size(X)\n",
    "    @test Y_tok ≈ Y_ref\n",
    "end\n",
    "\n",
    "@testset \"TransformerBlock identity with pos_kind=:none when projections are zero\" begin\n",
    "    rng = MersenneTwister(2)\n",
    "    d, L, B = 8, 5, 2\n",
    "    X = randn(Float32, d, L, B)\n",
    "\n",
    "    blk = HRMCommon.TransformerBlock(d; nheads=2, ff_mult=2, pos_kind=:none)\n",
    "    ps, st = Lux.setup(rng, blk)\n",
    "    _zero_attn_and_ff!(ps)\n",
    "\n",
    "    Y, _ = Lux.apply(blk, X, ps, st)\n",
    "    @test Y ≈ X\n",
    "end\n",
    "\n",
    "@testset \"Sinusoidal PE adds a content-independent shift\" begin\n",
    "    rng = MersenneTwister(3)\n",
    "    d, L, B = 8, 6, 2\n",
    "    X1 = randn(Float32, d, L, B)\n",
    "    X2 = randn(Float32, d, L, B)\n",
    "\n",
    "    blk = HRMCommon.TransformerBlock(d; nheads=2, ff_mult=2, pos_kind=:sinusoidal)\n",
    "    ps, st = Lux.setup(rng, blk)\n",
    "    _zero_attn_and_ff!(ps)  # isolate the positional effect\n",
    "\n",
    "    Y1, st1 = Lux.apply(blk, X1, ps, st)\n",
    "    Y2, _   = Lux.apply(blk, X2, ps, st1)\n",
    "\n",
    "    P1 = Y1 .- X1\n",
    "    P2 = Y2 .- X2\n",
    "    @test P1 ≈ P2\n",
    "    @test any(!iszero, P1)\n",
    "end\n",
    "\n",
    "@testset \"Gradients flow through MHA and FF\" begin\n",
    "    rng = MersenneTwister(4)\n",
    "    d, L, B = 8, 7, 3\n",
    "    X = randn(Float32, d, L, B)\n",
    "    T = randn(Float32, d, L, B)\n",
    "\n",
    "    blk = HRMCommon.TransformerBlock(d; nheads=2, ff_mult=2, pos_kind=:sinusoidal)\n",
    "    ps, st = Lux.setup(rng, blk)\n",
    "\n",
    "    # loss over parameters\n",
    "    loss(ps_) = begin\n",
    "        Y, _ = Lux.apply(blk, X, ps_, st)\n",
    "        sum(abs2, Y .- T) / length(Y)\n",
    "    end\n",
    "    g_ps = first(Zygote.gradient(loss, ps))\n",
    "\n",
    "    @test sum(abs2, g_ps.mha.q_proj.weight) > 0\n",
    "    @test sum(abs2, g_ps.ff.layer.layer_1.weight) > 0\n",
    "\n",
    "    # loss over input\n",
    "    lossX(X_) = begin\n",
    "        Y, _ = Lux.apply(blk, X_, ps, st)\n",
    "        sum(abs2, Y .- T) / length(Y)\n",
    "    end\n",
    "    gX = first(Zygote.gradient(lossX, X))\n",
    "    @test size(gX) == size(X)\n",
    "    @test sum(abs2, gX) > 0\n",
    "end\n"
   ]
  },
  {
   "cell_type": "code",
   "execution_count": null,
   "id": "5e82d0f5",
   "metadata": {},
   "outputs": [],
   "source": []
  },
  {
   "cell_type": "code",
   "execution_count": null,
   "id": "a8f37496",
   "metadata": {},
   "outputs": [],
   "source": []
  },
  {
   "cell_type": "code",
   "execution_count": null,
   "id": "5c5b81ed",
   "metadata": {},
   "outputs": [],
   "source": []
  },
  {
   "cell_type": "code",
   "execution_count": null,
   "id": "f2f81bb3",
   "metadata": {},
   "outputs": [],
   "source": []
  },
  {
   "cell_type": "code",
   "execution_count": null,
   "id": "770c9aad",
   "metadata": {},
   "outputs": [],
   "source": []
  },
  {
   "cell_type": "code",
   "execution_count": 3,
   "id": "fb601064",
   "metadata": {},
   "outputs": [],
   "source": [
    "using Plots, Test"
   ]
  },
  {
   "cell_type": "code",
   "execution_count": null,
   "id": "9985e219",
   "metadata": {},
   "outputs": [],
   "source": [
    "#data generator\n",
    "# y = w^T x + 0.1 * ||x||^2 + eps, where ( eps is N(0, 0.01) )\n",
    "\n",
    "struct ToyGen\n",
    "    w::Vector{Float32}\n",
    "end\n",
    "\n",
    "function ToyGen(d_in::Int; seed::Int=123)\n",
    "    Random.seed!(seed)\n",
    "    w = randn(Float32, d_in)\n",
    "    return ToyGen(w)\n",
    "end\n",
    "\n",
    "#returns (x, y) with shapes (d_in, batch), (1, batch)\n",
    "function sample!(gen::ToyGen, batch::Int)\n",
    "    d = length(gen.w)\n",
    "    x = randn(Float32, d, batch)\n",
    "    # linear part\n",
    "    y_lin = gen.w' * x      # (1, batch)\n",
    "    # small quadratic interaction\n",
    "    y_quad = 0.1f0 .* sum(abs2, x; dims=1)    # (1, batch)\n",
    "    # noise\n",
    "    eps = 0.01f0 .* randn(Float32, 1, batch)\n",
    "    y = Float32.(y_lin .+ y_quad .+ eps)\n",
    "    return x, y\n",
    "end"
   ]
  },
  {
   "cell_type": "code",
   "execution_count": null,
   "id": "11dd683f",
   "metadata": {},
   "outputs": [],
   "source": [
    "\"\"\"\n",
    "    quantize_to_tokens(x; num_tokens::Int, lo::Real, hi::Real)\n",
    "\n",
    "Uniformly bins each element of x in [lo, hi] into 1..num_tokens.\n",
    "Clamps values outside [lo, hi] to the nearest edge bin.\n",
    "\"\"\"\n",
    "LO = -3.0\n",
    "HI =  3.0\n",
    "\n",
    "function quantize_to_tokens(x; num_tokens::Int, lo::Real, hi::Real)\n",
    "    if num_tokens ≤ 0\n",
    "        error(\"quantize_to_tokens called with num_tokens <= 0; use raw floats instead.\")\n",
    "    end\n",
    "    @assert num_tokens ≥ 2\n",
    "    xn = @. clamp((x - lo) / (hi - lo + eps(eltype(x))), 0, 1)\n",
    "    ids = floor.(Int, xn * (num_tokens - 1)) .+ 1\n",
    "    return ids\n",
    "end"
   ]
  },
  {
   "cell_type": "code",
   "execution_count": null,
   "id": "40cd63c7",
   "metadata": {},
   "outputs": [],
   "source": [
    "CFG = (\n",
    "    d_in   = 16,\n",
    "    d_hid  = 64,\n",
    "    d_out  = 1,\n",
    "    N      = 2,\n",
    "    T      = 3,\n",
    "    M      = 1,\n",
    "    batch  = 64,\n",
    "    lr     = 1e-3,\n",
    "    steps  = 300,\n",
    "    seed   = 42,\n",
    "\n",
    "    # input encoding\n",
    "    num_tokens = 0,     # set >0 to use embeddings with IDs; 0 = raw float encoder\n",
    "    d_embed    = 32,\n",
    "\n",
    "    # transformer hyperparameters (shared or separated)\n",
    "    l_heads    = 2,     # L-module heads\n",
    "    l_ff_mult  = 4,     # FFN expansion for L\n",
    "    h_heads    = 2,     # H-module heads\n",
    "    h_ff_mult  = 4,     # FFN expansion for H\n",
    "    dropout    = 0.0\n",
    ")\n",
    "\n",
    "\n",
    "Random.seed!(42)"
   ]
  },
  {
   "cell_type": "code",
   "execution_count": null,
   "id": "890af7ac",
   "metadata": {},
   "outputs": [],
   "source": [
    "# Promote 2-D (d,B) to 3-D (d,1,B); remember if we promoted\n",
    "_as3d(X) = ndims(X) == 2 ? (reshape(X, size(X,1), 1, size(X,2)), true)  :\n",
    "          ndims(X) == 3 ? (X, false) :\n",
    "          error(\"Expected 2-D or 3-D tensor, got ndims=$(ndims(X))\")\n",
    "\n",
    "# Apply a (d,B) layer tokenwise over (d,L,B)\n",
    "function apply_tokenwise(layer, ps_layer, st_layer, X)\n",
    "    X3, was2d = _as3d(X)\n",
    "    d, L, B = size(X3)\n",
    "    X2 = reshape(X3, d, L*B)\n",
    "    Y2, st2 = Lux.apply(layer, X2, ps_layer, st_layer)\n",
    "    Y3 = reshape(Y2, d, L, B)\n",
    "    return was2d ? dropdims(Y3; dims=2) : Y3, st2\n",
    "end\n",
    "\n",
    "# Apply a (d,B) Chain tokenwise over (d,L,B)\n",
    "function apply_tokenwise_chain(chain, ps_chain, st_chain, X)\n",
    "    X3, was2d = _as3d(X)\n",
    "    d, L, B = size(X3)\n",
    "    X2 = reshape(X3, d, L*B)\n",
    "    Y2, st2 = Lux.apply(chain, X2, ps_chain, st_chain)\n",
    "    Y3 = reshape(Y2, d, L, B)\n",
    "    return was2d ? dropdims(Y3; dims=2) : Y3, st2\n",
    "end\n"
   ]
  },
  {
   "cell_type": "code",
   "execution_count": null,
   "id": "11854f7b",
   "metadata": {},
   "outputs": [],
   "source": []
  },
  {
   "cell_type": "code",
   "execution_count": null,
   "id": "068caffb",
   "metadata": {},
   "outputs": [],
   "source": []
  },
  {
   "cell_type": "code",
   "execution_count": null,
   "id": "d3a04aca",
   "metadata": {},
   "outputs": [],
   "source": []
  },
  {
   "cell_type": "code",
   "execution_count": null,
   "id": "3b65bcf3",
   "metadata": {},
   "outputs": [],
   "source": []
  },
  {
   "cell_type": "code",
   "execution_count": null,
   "id": "1e80d749",
   "metadata": {},
   "outputs": [],
   "source": []
  },
  {
   "cell_type": "code",
   "execution_count": null,
   "id": "6fead830",
   "metadata": {},
   "outputs": [],
   "source": []
  },
  {
   "cell_type": "code",
   "execution_count": null,
   "id": "8d527255",
   "metadata": {},
   "outputs": [],
   "source": []
  },
  {
   "cell_type": "code",
   "execution_count": null,
   "id": "ec6b4164",
   "metadata": {},
   "outputs": [],
   "source": []
  },
  {
   "cell_type": "code",
   "execution_count": null,
   "id": "b204d59f",
   "metadata": {},
   "outputs": [],
   "source": []
  },
  {
   "cell_type": "code",
   "execution_count": null,
   "id": "a33bfdc3",
   "metadata": {},
   "outputs": [],
   "source": []
  },
  {
   "cell_type": "code",
   "execution_count": null,
   "id": "a83ad31f",
   "metadata": {},
   "outputs": [],
   "source": []
  },
  {
   "cell_type": "code",
   "execution_count": null,
   "id": "3989d69f",
   "metadata": {},
   "outputs": [],
   "source": []
  },
  {
   "cell_type": "code",
   "execution_count": null,
   "id": "268f1764",
   "metadata": {},
   "outputs": [],
   "source": []
  },
  {
   "cell_type": "code",
   "execution_count": null,
   "id": "d1b53bec",
   "metadata": {},
   "outputs": [],
   "source": []
  },
  {
   "cell_type": "code",
   "execution_count": null,
   "id": "e7749655",
   "metadata": {},
   "outputs": [],
   "source": []
  }
 ],
 "metadata": {
  "kernelspec": {
   "display_name": "Julia 1.10.9",
   "language": "julia",
   "name": "julia-1.10"
  },
  "language_info": {
   "file_extension": ".jl",
   "mimetype": "application/julia",
   "name": "julia",
   "version": "1.10.9"
  }
 },
 "nbformat": 4,
 "nbformat_minor": 5
}
