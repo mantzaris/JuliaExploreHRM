{
 "cells": [
  {
   "cell_type": "code",
   "execution_count": 1,
   "id": "7bb1d18a",
   "metadata": {},
   "outputs": [
    {
     "name": "stderr",
     "output_type": "stream",
     "text": [
      "\u001b[32m\u001b[1m  Activating\u001b[22m\u001b[39m project at `~/Documents/repos/JuliaExploreHRM`\n"
     ]
    }
   ],
   "source": [
    "using Pkg\n",
    "Pkg.activate(\"..\")  #one level up, where Project.toml lives\n",
    "Pkg.instantiate()   #download/install anything missing\n",
    "# Pkg.status();"
   ]
  },
  {
   "cell_type": "code",
   "execution_count": 40,
   "id": "9e4a070a",
   "metadata": {},
   "outputs": [
    {
     "name": "stderr",
     "output_type": "stream",
     "text": [
      "WARNING: replacing module HRMCommon.\n"
     ]
    }
   ],
   "source": [
    "include(joinpath(@__DIR__, \"..\", \"hrm_common.jl\"))\n",
    "using .HRMCommon\n",
    "using Statistics\n",
    "\n",
    "# Y1, st1 = HRMCommon.transformer_forward!(blk, ps, st, X1)\n",
    "# Y2, st2 = HRMCommon.transformer_forward!(blk, ps, st1, X2)  # reuse states\n"
   ]
  },
  {
   "cell_type": "code",
   "execution_count": 43,
   "id": "124f6fbd",
   "metadata": {},
   "outputs": [],
   "source": [
    "d, L, B = 8, 4, 2\n",
    "X = randn(Float32, d, L, B)\n",
    "\n",
    "blk = HRMCommon.make_transformer_block(d; nheads=2, ff_mult=2, pos_kind=:sinusoidal)\n",
    "\n",
    "ps = (\n",
    "  pos_layer = Lux.setup(rng, blk.pos_layer)[1],\n",
    "  mha  = Lux.setup(rng, blk.mha )[1],\n",
    "  ln1  = Lux.setup(rng, blk.ln1 )[1],\n",
    "  ff   = Lux.setup(rng, blk.ff  )[1],\n",
    "  ln2  = Lux.setup(rng, blk.ln2 )[1],\n",
    ")\n",
    "st = (\n",
    "  pos_layer = Lux.setup(rng, blk.pos_layer)[2],\n",
    "  mha  = Lux.setup(rng, blk.mha )[2],\n",
    "  ln1  = Lux.setup(rng, blk.ln1 )[2],\n",
    "  ff   = Lux.setup(rng, blk.ff  )[2],\n",
    "  ln2  = Lux.setup(rng, blk.ln2 )[2],\n",
    ")\n",
    "\n",
    "Y, st2 = HRMCommon.transformer_forward!(blk, ps, st, X)\n",
    "@assert size(Y) == (d, L, B)\n"
   ]
  },
  {
   "cell_type": "code",
   "execution_count": null,
   "id": "28903d42",
   "metadata": {},
   "outputs": [],
   "source": []
  },
  {
   "cell_type": "code",
   "execution_count": null,
   "id": "a240a8f8",
   "metadata": {},
   "outputs": [],
   "source": []
  },
  {
   "cell_type": "code",
   "execution_count": null,
   "id": "c7fec665",
   "metadata": {},
   "outputs": [],
   "source": []
  },
  {
   "cell_type": "code",
   "execution_count": null,
   "id": "0e8d7c92",
   "metadata": {},
   "outputs": [],
   "source": []
  },
  {
   "cell_type": "code",
   "execution_count": null,
   "id": "6acbd639",
   "metadata": {},
   "outputs": [],
   "source": []
  },
  {
   "cell_type": "code",
   "execution_count": null,
   "id": "7b9cb2ea",
   "metadata": {},
   "outputs": [],
   "source": []
  },
  {
   "cell_type": "code",
   "execution_count": null,
   "id": "030c1c41",
   "metadata": {},
   "outputs": [],
   "source": []
  },
  {
   "cell_type": "code",
   "execution_count": null,
   "id": "34099680",
   "metadata": {},
   "outputs": [],
   "source": []
  },
  {
   "cell_type": "code",
   "execution_count": null,
   "id": "6c40b8c6",
   "metadata": {},
   "outputs": [],
   "source": []
  },
  {
   "cell_type": "code",
   "execution_count": null,
   "id": "f2f81bb3",
   "metadata": {},
   "outputs": [],
   "source": []
  },
  {
   "cell_type": "code",
   "execution_count": null,
   "id": "770c9aad",
   "metadata": {},
   "outputs": [],
   "source": []
  },
  {
   "cell_type": "code",
   "execution_count": 3,
   "id": "fb601064",
   "metadata": {},
   "outputs": [],
   "source": [
    "using Plots, Test"
   ]
  },
  {
   "cell_type": "code",
   "execution_count": null,
   "id": "9985e219",
   "metadata": {},
   "outputs": [],
   "source": [
    "#data generator\n",
    "# y = w^T x + 0.1 * ||x||^2 + eps, where ( eps is N(0, 0.01) )\n",
    "\n",
    "struct ToyGen\n",
    "    w::Vector{Float32}\n",
    "end\n",
    "\n",
    "function ToyGen(d_in::Int; seed::Int=123)\n",
    "    Random.seed!(seed)\n",
    "    w = randn(Float32, d_in)\n",
    "    return ToyGen(w)\n",
    "end\n",
    "\n",
    "#returns (x, y) with shapes (d_in, batch), (1, batch)\n",
    "function sample!(gen::ToyGen, batch::Int)\n",
    "    d = length(gen.w)\n",
    "    x = randn(Float32, d, batch)\n",
    "    # linear part\n",
    "    y_lin = gen.w' * x      # (1, batch)\n",
    "    # small quadratic interaction\n",
    "    y_quad = 0.1f0 .* sum(abs2, x; dims=1)    # (1, batch)\n",
    "    # noise\n",
    "    eps = 0.01f0 .* randn(Float32, 1, batch)\n",
    "    y = Float32.(y_lin .+ y_quad .+ eps)\n",
    "    return x, y\n",
    "end"
   ]
  },
  {
   "cell_type": "code",
   "execution_count": null,
   "id": "11dd683f",
   "metadata": {},
   "outputs": [],
   "source": [
    "\"\"\"\n",
    "    quantize_to_tokens(x; num_tokens::Int, lo::Real, hi::Real)\n",
    "\n",
    "Uniformly bins each element of x in [lo, hi] into 1..num_tokens.\n",
    "Clamps values outside [lo, hi] to the nearest edge bin.\n",
    "\"\"\"\n",
    "LO = -3.0\n",
    "HI =  3.0\n",
    "\n",
    "function quantize_to_tokens(x; num_tokens::Int, lo::Real, hi::Real)\n",
    "    if num_tokens ≤ 0\n",
    "        error(\"quantize_to_tokens called with num_tokens <= 0; use raw floats instead.\")\n",
    "    end\n",
    "    @assert num_tokens ≥ 2\n",
    "    xn = @. clamp((x - lo) / (hi - lo + eps(eltype(x))), 0, 1)\n",
    "    ids = floor.(Int, xn * (num_tokens - 1)) .+ 1\n",
    "    return ids\n",
    "end"
   ]
  },
  {
   "cell_type": "code",
   "execution_count": null,
   "id": "40cd63c7",
   "metadata": {},
   "outputs": [],
   "source": [
    "CFG = (\n",
    "    d_in   = 16,\n",
    "    d_hid  = 64,\n",
    "    d_out  = 1,\n",
    "    N      = 2,\n",
    "    T      = 3,\n",
    "    M      = 1,\n",
    "    batch  = 64,\n",
    "    lr     = 1e-3,\n",
    "    steps  = 300,\n",
    "    seed   = 42,\n",
    "\n",
    "    # input encoding\n",
    "    num_tokens = 0,     # set >0 to use embeddings with IDs; 0 = raw float encoder\n",
    "    d_embed    = 32,\n",
    "\n",
    "    # transformer hyperparameters (shared or separated)\n",
    "    l_heads    = 2,     # L-module heads\n",
    "    l_ff_mult  = 4,     # FFN expansion for L\n",
    "    h_heads    = 2,     # H-module heads\n",
    "    h_ff_mult  = 4,     # FFN expansion for H\n",
    "    dropout    = 0.0\n",
    ")\n",
    "\n",
    "\n",
    "Random.seed!(42)"
   ]
  },
  {
   "cell_type": "code",
   "execution_count": null,
   "id": "890af7ac",
   "metadata": {},
   "outputs": [],
   "source": [
    "# Promote 2-D (d,B) to 3-D (d,1,B); remember if we promoted\n",
    "_as3d(X) = ndims(X) == 2 ? (reshape(X, size(X,1), 1, size(X,2)), true)  :\n",
    "          ndims(X) == 3 ? (X, false) :\n",
    "          error(\"Expected 2-D or 3-D tensor, got ndims=$(ndims(X))\")\n",
    "\n",
    "# Apply a (d,B) layer tokenwise over (d,L,B)\n",
    "function apply_tokenwise(layer, ps_layer, st_layer, X)\n",
    "    X3, was2d = _as3d(X)\n",
    "    d, L, B = size(X3)\n",
    "    X2 = reshape(X3, d, L*B)\n",
    "    Y2, st2 = Lux.apply(layer, X2, ps_layer, st_layer)\n",
    "    Y3 = reshape(Y2, d, L, B)\n",
    "    return was2d ? dropdims(Y3; dims=2) : Y3, st2\n",
    "end\n",
    "\n",
    "# Apply a (d,B) Chain tokenwise over (d,L,B)\n",
    "function apply_tokenwise_chain(chain, ps_chain, st_chain, X)\n",
    "    X3, was2d = _as3d(X)\n",
    "    d, L, B = size(X3)\n",
    "    X2 = reshape(X3, d, L*B)\n",
    "    Y2, st2 = Lux.apply(chain, X2, ps_chain, st_chain)\n",
    "    Y3 = reshape(Y2, d, L, B)\n",
    "    return was2d ? dropdims(Y3; dims=2) : Y3, st2\n",
    "end\n"
   ]
  },
  {
   "cell_type": "code",
   "execution_count": null,
   "id": "11854f7b",
   "metadata": {},
   "outputs": [],
   "source": []
  },
  {
   "cell_type": "code",
   "execution_count": null,
   "id": "068caffb",
   "metadata": {},
   "outputs": [],
   "source": []
  },
  {
   "cell_type": "code",
   "execution_count": null,
   "id": "d3a04aca",
   "metadata": {},
   "outputs": [],
   "source": []
  },
  {
   "cell_type": "code",
   "execution_count": null,
   "id": "3b65bcf3",
   "metadata": {},
   "outputs": [],
   "source": []
  },
  {
   "cell_type": "code",
   "execution_count": null,
   "id": "1e80d749",
   "metadata": {},
   "outputs": [],
   "source": []
  },
  {
   "cell_type": "code",
   "execution_count": null,
   "id": "6fead830",
   "metadata": {},
   "outputs": [],
   "source": []
  },
  {
   "cell_type": "code",
   "execution_count": null,
   "id": "8d527255",
   "metadata": {},
   "outputs": [],
   "source": []
  },
  {
   "cell_type": "code",
   "execution_count": null,
   "id": "ec6b4164",
   "metadata": {},
   "outputs": [],
   "source": []
  },
  {
   "cell_type": "code",
   "execution_count": null,
   "id": "b204d59f",
   "metadata": {},
   "outputs": [],
   "source": []
  },
  {
   "cell_type": "code",
   "execution_count": null,
   "id": "a33bfdc3",
   "metadata": {},
   "outputs": [],
   "source": []
  },
  {
   "cell_type": "code",
   "execution_count": null,
   "id": "a83ad31f",
   "metadata": {},
   "outputs": [],
   "source": []
  },
  {
   "cell_type": "code",
   "execution_count": null,
   "id": "3989d69f",
   "metadata": {},
   "outputs": [],
   "source": []
  },
  {
   "cell_type": "code",
   "execution_count": null,
   "id": "268f1764",
   "metadata": {},
   "outputs": [],
   "source": []
  },
  {
   "cell_type": "code",
   "execution_count": null,
   "id": "d1b53bec",
   "metadata": {},
   "outputs": [],
   "source": []
  },
  {
   "cell_type": "code",
   "execution_count": null,
   "id": "e7749655",
   "metadata": {},
   "outputs": [],
   "source": []
  }
 ],
 "metadata": {
  "kernelspec": {
   "display_name": "Julia 1.10.9",
   "language": "julia",
   "name": "julia-1.10"
  },
  "language_info": {
   "file_extension": ".jl",
   "mimetype": "application/julia",
   "name": "julia",
   "version": "1.10.9"
  }
 },
 "nbformat": 4,
 "nbformat_minor": 5
}
